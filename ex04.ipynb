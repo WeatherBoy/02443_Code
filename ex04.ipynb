{
 "cells": [
  {
   "attachments": {},
   "cell_type": "markdown",
   "metadata": {},
   "source": [
    "# Exercises day 03"
   ]
  },
  {
   "cell_type": "code",
   "execution_count": 92,
   "metadata": {},
   "outputs": [],
   "source": [
    "import numpy as np\n",
    "import matplotlib.pyplot as plt\n",
    "import scipy\n",
    "\n",
    "\n",
    "def compute_confidence_interval_sample(data, confidence=0.95):\n",
    "    N = len(data)\n",
    "    alpha = 1- confidence\n",
    "    #conf_mean = [data.mean - confidence * data.std()/np.sqrt(N), data.mean + confidence * data.std()/np.sqrt(N)]\n",
    "    conf_mean = [data.mean + data.std()/np.sqrt(N) * scipy.stats.t.cdf(alpha/2, N - 1), data.mean + data.std()/np.sqrt(N) * scipy.stats.t.cdf(1-alpha/2, N - 1)]\n",
    "    return conf_mean"
   ]
  },
  {
   "attachments": {},
   "cell_type": "markdown",
   "metadata": {},
   "source": [
    "## Ex01\n",
    "The event for the blocking system is has the possible following event:\n",
    "\n",
    "* Arrival of a customer \n",
    "* Customer is served\n",
    "* Customer is blocked, as all $m$ service unints is occupied.\n"
   ]
  },
  {
   "cell_type": "code",
   "execution_count": 93,
   "metadata": {},
   "outputs": [],
   "source": [
    "# Define blocking system\n",
    "m = 10              # service units\n",
    "service_mean = 8    # 1/mean service time\n",
    "arrival_mean = 1    # mean arrival time      \n"
   ]
  },
  {
   "attachments": {},
   "cell_type": "markdown",
   "metadata": {},
   "source": [
    "Class for service units"
   ]
  },
  {
   "cell_type": "code",
   "execution_count": 94,
   "metadata": {},
   "outputs": [],
   "source": [
    "class Event:\n",
    "    def __init__(self, event_type : str, time : float, ) -> None:\n",
    "        if event_type.lower() not in ['arrival', 'departure']:\n",
    "            raise ValueError('event_type must be either arrival or departure')\n",
    "        self.event_type = event_type\n",
    "        self.time = time\n",
    "       "
   ]
  },
  {
   "cell_type": "code",
   "execution_count": 95,
   "metadata": {},
   "outputs": [],
   "source": [
    "class ServiceUnit:\n",
    "    # def __init__(self, occupied : bool = False, service_time: float  = 0) -> None:\n",
    "    def __init__(self, occupied : bool = False) -> None:\n",
    "        self.occupied = occupied\n",
    "        # self.service_time = service_time\n",
    "\n",
    "   \n",
    "    #def update_service_time(self, lam : float) -> None:\n",
    "    #    self.service_time = numpy.random.exponential(lam)# + time\n",
    "\n",
    "    def free_unit(self) -> None:\n",
    "        self.occupied = False\n",
    "\n",
    "    def take_unit(self) -> None:\n",
    "        self.occupied = True \n",
    "         \n",
    "    def __str__(self) -> str:\n",
    "        return f\"Occupied: {self.occupied}, Service Time: {self.service_time}\"   \n",
    "\n",
    "\n",
    "\n",
    "        "
   ]
  },
  {
   "cell_type": "code",
   "execution_count": 96,
   "metadata": {},
   "outputs": [],
   "source": [
    "def sample_arrival() -> float:\n",
    "    \"\"\"\n",
    "        \n",
    "    \"\"\"\n",
    "    return np.random.exponential(arrival_mean) # NOTE: check if is it not 1/arrial_mean\n",
    "\n",
    "def sample_service_time() -> float:\n",
    "    \"\"\"\n",
    "        \n",
    "    \"\"\"\n",
    "    return np.random.exponential(service_mean) \n",
    "\n",
    "\n",
    "def check_available_service(service_units : list[bool]) -> tuple[int, bool]:\n",
    "    \"\"\"\n",
    "    \n",
    "    \"\"\"\n",
    "    for indx, unit_occupied in enumerate(service_units):\n",
    "        if not unit_occupied:\n",
    "            return indx, True\n",
    "        \n",
    "    return None, False\n",
    "\n",
    "\n",
    "def apend_event(event_list : list[Event], event_to_append : Event) -> list[Event]:\n",
    "    \"\"\"\n",
    "\n",
    "    \"\"\"\n",
    "    for indx, event in enumerate(event_list):\n",
    "        \n",
    "        if event.time > event_to_append.time:\n",
    "            event_list.insert(indx, event_to_append)\n",
    "            return event_list\n",
    "        \n",
    "    event_list.append(event_to_append)\n",
    "    return event_list\n",
    "    "
   ]
  },
  {
   "attachments": {},
   "cell_type": "markdown",
   "metadata": {},
   "source": [
    "Simulation:"
   ]
  },
  {
   "cell_type": "code",
   "execution_count": null,
   "metadata": {},
   "outputs": [],
   "source": [
    "def blocking_simulation(simulation_runs : int = 10, m : int = 10, N : int = 10000) -> list[float]:\n",
    "    blocked_probabilities = []\n",
    "    for _ in range(simulation_runs):\n",
    "        custmer_count = 0\n",
    "        global_time = 0\n",
    "        event_counter = 0\n",
    "        block_count = 0\n",
    "\n",
    "        # lists\n",
    "        event_list = []\n",
    "        service_units_status = [False for _ in range(m)]\n",
    "\n",
    "        # First arrival\n",
    "        first_arrival = sample_arrival()\n",
    "        event_list.append(Event('arrival', global_time + first_arrival))\n",
    "        global_time += first_arrival\n",
    "        event_list.append(Event('departure', global_time + sample_service_time()))\n",
    "        service_units_status[0] = True # <-- unit 1 is occupied\n",
    "\n",
    "        while custmer_count < N:\n",
    "            \n",
    "            current_event = event_list[event_counter]\n",
    "\n",
    "            # Increment global time\n",
    "            global_time = current_event.time\n",
    "\n",
    "            if current_event.event_type == 'arrival':\n",
    "                custmer_count += 1\n",
    "\n",
    "                # Check for free service units\n",
    "                indx, available = check_available_service(service_units_status)\n",
    "                \n",
    "                if available:\n",
    "                    # Insert departure event and depend to eventlist\n",
    "                    departure_event = Event('departure', global_time + sample_service_time())\n",
    "                    event_list = apend_event(event_list, departure_event)\n",
    "\n",
    "                    # Take service unit\n",
    "                    service_units_status[indx] = True # <-- unit indx is occupied\n",
    "\n",
    "                if not available:\n",
    "                    # Costumer blocked\n",
    "                    block_count += 1\n",
    "                \n",
    "                # insert time for next arrival\n",
    "                arrival_event = Event('arrival', global_time + sample_arrival())\n",
    "                event_list = apend_event(event_list, arrival_event)\n",
    "\n",
    "            elif current_event.event_type == 'departure': \n",
    "                # Free the service unit for the current departure event\n",
    "                for indx, unit_occupied in enumerate(service_units_status):\n",
    "                    if unit_occupied:\n",
    "                        service_units_status[indx] = False # <-- unit indx is free\n",
    "                        \n",
    "            # increment event counter\n",
    "            event_counter += 1\n",
    "        \n",
    "        blocked_probabilities.append(block_count / N)\n",
    "    \n",
    "    return blocked_probabilities"
   ]
  },
  {
   "cell_type": "code",
   "execution_count": null,
   "metadata": {},
   "outputs": [],
   "source": [
    "\n",
    "\n"
   ]
  },
  {
   "attachments": {},
   "cell_type": "markdown",
   "metadata": {},
   "source": [
    "Exact solution"
   ]
  },
  {
   "cell_type": "code",
   "execution_count": 103,
   "metadata": {},
   "outputs": [
    {
     "name": "stdout",
     "output_type": "stream",
     "text": [
      "Exact blocking probability: 0.13851266214160918\n"
     ]
    }
   ],
   "source": [
    "A = arrival_mean *service_mean\n",
    "\n",
    "B = (A**m/np.math.factorial(m))/np.sum([A**i/np.math.factorial(i) for i in range(m)])\n",
    "print(f\"Exact blocking probability: {B}\")"
   ]
  },
  {
   "cell_type": "code",
   "execution_count": null,
   "metadata": {},
   "outputs": [],
   "source": [
    "# NOTE: Maybe use burn in period...?\n",
    "\n",
    "# Init\n",
    "N = 10**4\n",
    "custmer_count = 0\n",
    "global_time = 0\n",
    "event_counter = 0\n",
    "block_count = 0\n",
    "\n",
    "# lists\n",
    "event_list = []\n",
    "ServiceUnits = [ServiceUnit() for _ in range(m)]\n",
    "\n",
    "# sanity check\n",
    "arrival_times = []\n",
    "departure_times = []\n",
    "\n",
    "# First arrival\n",
    "first_arrival = sample_arrival()\n",
    "global_time += first_arrival\n",
    "event_list.append(Event('arrival', first_arrival))\n",
    "event_list.append(Event('departure', global_time + sample_service_time()))\n",
    "ServiceUnits[0].take_unit()\n",
    "\n",
    "\n",
    "\n",
    "while custmer_count < N:\n",
    "    \n",
    "    current_event = event_list[event_counter]\n",
    "\n",
    "    # Increment global time\n",
    "    global_time = current_event.time\n",
    "\n",
    "    if current_event.event_type == 'arrival':\n",
    "        custmer_count += 1\n",
    "\n",
    "        # Check for free service units\n",
    "        indx, available = check_available_service(ServiceUnits)\n",
    "        \n",
    "        if available:\n",
    "            # Insert departure event and depend to eventlist\n",
    "            service_time = sample_service_time()\n",
    "            departure_times.append(service_time)\n",
    "            \n",
    "            departure_event = Event('departure', global_time + service_time)\n",
    "            event_list = apend_event(event_list, departure_event)\n",
    "\n",
    "            # Take service unit\n",
    "            ServiceUnits[indx].take_unit()\n",
    "\n",
    "        if not available:\n",
    "            # Costumer blocked\n",
    "            block_count += 1\n",
    "        \n",
    "        # insert time for next arrival\n",
    "        arrival_time = sample_arrival()\n",
    "        arrival_times.append(arrival_time)\n",
    "        \n",
    "        arrival_event = Event('arrival', global_time + arrival_time)\n",
    "        event_list = apend_event(event_list, arrival_event)\n",
    "\n",
    "    elif current_event.event_type == 'departure': \n",
    "        # Free the service unit for the current departure event\n",
    "        for unit in ServiceUnits:\n",
    "            if unit.occupied:\n",
    "                unit.free_unit()\n",
    "\n",
    "    # increment event counter\n",
    "    event_counter += 1\n",
    "        \n",
    "\n",
    "\n",
    "print(f\"Block probability for single run: {block_count/N}\")\n"
   ]
  },
  {
   "cell_type": "code",
   "execution_count": null,
   "metadata": {},
   "outputs": [],
   "source": [
    "print([event.time for event in event_list])\n",
    "\n",
    "print(f\"Num arrivals: {len(arrival_times)}\")\n",
    "print(f\"Num departures: {len(departure_times)}\")\n",
    "print(f\"Mean arrival times: {np.mean(arrival_times)}\")\n",
    "print(f\"Mean departure times: {np.mean(departure_times)}\")\n",
    "\n",
    "print(f\"Blocked count: \\n{block_count}\\nArrivals - depatures: \\n{len(arrival_times) - len(departure_times)}\")\n",
    "\n",
    "\n"
   ]
  }
 ],
 "metadata": {
  "kernelspec": {
   "display_name": "SSenv",
   "language": "python",
   "name": "python3"
  },
  "language_info": {
   "codemirror_mode": {
    "name": "ipython",
    "version": 3
   },
   "file_extension": ".py",
   "mimetype": "text/x-python",
   "name": "python",
   "nbconvert_exporter": "python",
   "pygments_lexer": "ipython3",
   "version": "3.10.6"
  },
  "orig_nbformat": 4
 },
 "nbformat": 4,
 "nbformat_minor": 2
}
