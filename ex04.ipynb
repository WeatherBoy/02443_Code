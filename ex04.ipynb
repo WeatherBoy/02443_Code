{
 "cells": [
  {
   "attachments": {},
   "cell_type": "markdown",
   "metadata": {},
   "source": [
    "# Exercises day 03"
   ]
  },
  {
   "cell_type": "code",
   "execution_count": 4,
   "metadata": {},
   "outputs": [
    {
     "name": "stdout",
     "output_type": "stream",
     "text": [
      "The autoreload extension is already loaded. To reload it, use:\n",
      "  %reload_ext autoreload\n"
     ]
    }
   ],
   "source": [
    "%load_ext autoreload\n",
    "%autoreload 2\n",
    "\n",
    "import numpy as np\n",
    "import matplotlib.pyplot as plt\n",
    "import scipy\n",
    "from typing import Callable\n",
    "from helperfunction import *\n",
    "\n",
    "def compute_confidence_interval_sample(data : list[float], confidence : float = 0.95) -> list[float]:\n",
    "    \"\"\"\n",
    "        Compute the confidence interval of the mean of the data.\n",
    "        :param data: list of data\n",
    "        :param confidence: confidence level\n",
    "        \n",
    "        :return: confidence interval of the mean of the data\n",
    "    \"\"\"\n",
    "    N = len(data)\n",
    "    alpha = 1 - confidence\n",
    "\n",
    "    data = np.array(data)\n",
    "    #conf_mean = [data.mean - confidence * data.std()/np.sqrt(N), data.mean + confidence * data.std()/np.sqrt(N)]\n",
    "    conf_mean = [data.mean() + data.std()/np.sqrt(N) * scipy.stats.t.cdf(alpha/2, N - 1), data.mean() + data.std()/np.sqrt(N) * scipy.stats.t.cdf(1-alpha/2, N - 1)]\n",
    "    return conf_mean\n",
    "    "
   ]
  },
  {
   "attachments": {},
   "cell_type": "markdown",
   "metadata": {},
   "source": [
    "## Ex01\n",
    "The event for the blocking system is has the possible following event:\n",
    "\n",
    "* Arrival of a customer \n",
    "* Customer is served\n",
    "* Customer is blocked, as all $m$ service unints is occupied.\n",
    "\n",
    "For part 1 the arrival process is modelled as a Poisson process, and the service time distribution as exponential. For a poisson process wit the mean $\\lambda$ we know that the intervals between the events are exponential distributied with the same parameter. We can use this information for sampling the arrival times for the system."
   ]
  },
  {
   "cell_type": "code",
   "execution_count": 5,
   "metadata": {},
   "outputs": [],
   "source": [
    "# Define blocking system\n",
    "m = 10              # service units\n",
    "SERVICE_MEAN = 8    # 1/mean service time\n",
    "ARRIVAL_MEAN = 1    # mean arrival time      "
   ]
  },
  {
   "attachments": {},
   "cell_type": "markdown",
   "metadata": {},
   "source": [
    "The implementation of the simulations follows the event-by-event principle. As the method is quite simple one could sample all the arrivals beforehand, but this approuch is not always posible for other descrete events, so we choose to follow the event-by-event principle. Here all event are stored in an event list, that contrains the eventype and is sorted by the event time.\n",
    "\n",
    "The simulation is initiated by the first arrival, and all service units are initialized to be free. The simulations then begins in a while loop until all of the choosen arrivals has happened. Here the next event is simply the next in the event list as the list is sorted by increasing time. The simulation should imitate the steady state probability of the blocking, the simulation should run a little time before counting the blocking rate. \n",
    "\n",
    "An event is handled differently compared to what kind of event it is. For an arrival we first check if there is free service unit. If there is one, and service time is sampled and added to the eventlist, of not the customer er blocked and the blocked customer count is encreased by one. For an departure a service unit is freed so that the number of occupied service units is decreases by one. The probability of blocking is therefore simply the blocking count devided by the total number of arrivals. \n",
    "\n",
    "The code for the simulation can be found in the python file `helperfunctions`. Because you might be interested in other distributions for the arrival- and service time the simulation function takes two inputs that is the sampling from these distributions. The sampling function for the frist exercise is given as:"
   ]
  },
  {
   "cell_type": "code",
   "execution_count": 6,
   "metadata": {},
   "outputs": [],
   "source": [
    "def sample_arrival_poisson_process() -> float:\n",
    "    \"\"\"\n",
    "        Sample the arrival time from a Poisson process.\n",
    "        \n",
    "        :return: arrival time (as a float)\n",
    "    \"\"\"\n",
    "    return np.random.exponential(ARRIVAL_MEAN) # TODO: check if is it not 1/arrial_mean\n",
    "\n",
    "\n",
    "def sample_service_time_exponential() -> float:\n",
    "    \"\"\"\n",
    "        Sample the service time from an exponential distribution.\n",
    "        \n",
    "        :return: service time (as a float)\n",
    "    \"\"\"\n",
    "    return np.random.exponential(SERVICE_MEAN) \n"
   ]
  },
  {
   "attachments": {},
   "cell_type": "markdown",
   "metadata": {},
   "source": [
    "The simulation gave the results:"
   ]
  },
  {
   "cell_type": "code",
   "execution_count": 8,
   "metadata": {},
   "outputs": [
    {
     "name": "stdout",
     "output_type": "stream",
     "text": [
      "run 1\n",
      "run 2\n",
      "run 3\n",
      "run 4\n",
      "run 5\n",
      "run 6\n",
      "run 7\n",
      "run 8\n",
      "run 9\n",
      "run 10\n",
      "The fraction of blocked customers \n",
      "[0.12090909090909091, 0.11888888888888889, 0.11747474747474747, 0.1195959595959596, 0.1195959595959596, 0.12242424242424242, 0.1111111111111111, 0.12151515151515152, 0.12131313131313132, 0.12393939393939393]\n",
      "Confidence interval for the mean blocking fraction: [0.12021653884581605, 0.12054777452428872]\n"
     ]
    }
   ],
   "source": [
    "block_fraction,_ = blocking_simulation()\n",
    "\n",
    "block_fraction_conf = compute_confidence_interval_sample(block_fraction)\n",
    "\n",
    "print(f\"The fraction of blocked customers \\n{block_fraction}\")\n",
    "print(f\"Confidence interval for the mean blocking fraction: {block_fraction_conf}\")\n"
   ]
  },
  {
   "attachments": {},
   "cell_type": "markdown",
   "metadata": {},
   "source": [
    "Exact solution"
   ]
  },
  {
   "cell_type": "code",
   "execution_count": 7,
   "metadata": {},
   "outputs": [
    {
     "name": "stdout",
     "output_type": "stream",
     "text": [
      "Exact blocking probability: 0.12166106425295149\n"
     ]
    }
   ],
   "source": [
    "A = ARRIVAL_MEAN * SERVICE_MEAN\n",
    "\n",
    "B = (A**m/np.math.factorial(m))/np.sum([(A**i)/np.math.factorial(i) for i in range(m+1)])\n",
    "print(f\"Exact blocking probability: {B}\")"
   ]
  },
  {
   "attachments": {},
   "cell_type": "markdown",
   "metadata": {},
   "source": [
    "The simulation is sufficiently close to the found exact solution."
   ]
  },
  {
   "attachments": {},
   "cell_type": "markdown",
   "metadata": {},
   "source": [
    "## EX02\n",
    "The simulation is repeated with different arrival- and service time distributions. \n",
    "\n",
    "### a) Erlang distributed arrival\n"
   ]
  },
  {
   "cell_type": "code",
   "execution_count": 9,
   "metadata": {},
   "outputs": [],
   "source": [
    "def sample_arrival_erlang() -> float:\n",
    "    \"\"\"\n",
    "        Sample the arrival time from an erlang distribution with a = 1.\n",
    "        (NOTE: a = 1, is apparently the mean value in SciPys implementation, idk we asked a TA)\n",
    "        \n",
    "        :return: arrival time (as a float)\n",
    "    \"\"\"\n",
    "    return scipy.stats.erlang.rvs(a = 1)"
   ]
  },
  {
   "cell_type": "code",
   "execution_count": 10,
   "metadata": {},
   "outputs": [
    {
     "name": "stdout",
     "output_type": "stream",
     "text": [
      "run 1\n",
      "run 2\n",
      "run 3\n",
      "run 4\n",
      "run 5\n",
      "run 6\n",
      "run 7\n",
      "run 8\n",
      "run 9\n",
      "run 10\n",
      "The fraction of blocked customers \n",
      "([0.1201010101010101, 0.1395959595959596, 0.11484848484848485, 0.11616161616161616, 0.1288888888888889, 0.11, 0.1204040404040404, 0.12666666666666668, 0.12181818181818181, 0.12464646464646464], [0.9963588186372299, 0.9759524125107968, 0.9993879338430003, 1.0063089285878923, 0.9990079035552266, 1.004637119161778, 0.9962711431443216, 1.01164587253722, 0.9967830761981257, 0.9764794581208948])\n",
      "Confidence interval for the mean blocking fraction: [0.7162921434517591, 0.7898553836064991]\n"
     ]
    }
   ],
   "source": [
    "block_fraction = blocking_simulation(sample_arrival=sample_arrival_erlang)\n",
    "\n",
    "block_fraction_conf = compute_confidence_interval_sample(block_fraction)\n",
    "\n",
    "print(f\"The fraction of blocked customers \\n{block_fraction}\")\n",
    "print(f\"Confidence interval for the mean blocking fraction: {block_fraction_conf}\")"
   ]
  },
  {
   "attachments": {},
   "cell_type": "markdown",
   "metadata": {},
   "source": [
    "### b) hyper exponential distribution\n",
    "For sampling from the hyper exponential distribution we utilize the Composition methods from last week"
   ]
  },
  {
   "cell_type": "code",
   "execution_count": 11,
   "metadata": {},
   "outputs": [],
   "source": [
    "HYPER_PROB = 0.8\n",
    "HYPER_MEAN = [1/0.8333, 1/5.]\n",
    "\n",
    "def sample_arrival_hyper_exponential() -> float:\n",
    "    \"\"\"\n",
    "    \"\"\"\n",
    "    p = np.random.binomial(n=1,p= HYPER_PROB)\n",
    "\n",
    "    if p:\n",
    "        return np.random.exponential(HYPER_MEAN[0])\n",
    "    else:\n",
    "        return np.random.exponential(HYPER_MEAN[1])\n"
   ]
  },
  {
   "attachments": {},
   "cell_type": "markdown",
   "metadata": {},
   "source": [
    "Simulation:"
   ]
  },
  {
   "cell_type": "code",
   "execution_count": 12,
   "metadata": {},
   "outputs": [
    {
     "name": "stdout",
     "output_type": "stream",
     "text": [
      "run 1\n",
      "run 2\n",
      "run 3\n",
      "run 4\n",
      "run 5\n",
      "run 6\n",
      "run 7\n",
      "run 8\n",
      "run 9\n",
      "run 10\n",
      "The fraction of blocked customers \n",
      "([0.13818181818181818, 0.14202020202020202, 0.12737373737373736, 0.14626262626262626, 0.13363636363636364, 0.13444444444444445, 0.1505050505050505, 0.1411111111111111, 0.13252525252525252, 0.13727272727272727], [0.9900601608885392, 0.9930300639369011, 1.0265356870308329, 0.9831166184871339, 1.0049309066250671, 0.9986562414338381, 0.9918783890534145, 1.0051623565484058, 1.001781089986869, 1.0101171831602929])\n",
      "Confidence interval for the mean blocking fraction: [0.7243082173482395, 0.7968800357504441]\n"
     ]
    }
   ],
   "source": [
    "block_fraction = blocking_simulation(sample_arrival=sample_arrival_hyper_exponential)\n",
    "\n",
    "block_fraction_conf = compute_confidence_interval_sample(block_fraction)\n",
    "\n",
    "print(f\"The fraction of blocked customers \\n{block_fraction}\")\n",
    "print(f\"Confidence interval for the mean blocking fraction: {block_fraction_conf}\")"
   ]
  },
  {
   "attachments": {},
   "cell_type": "markdown",
   "metadata": {},
   "source": [
    "## Ex03\n",
    "\n",
    "**We reuse Poisson from** *Ex01* **but then we use some new distributions for sampling the service time**\n",
    "* **Constant service time**\n",
    "* **Paretto distributed with $k = 1.05$ or $k = 2.05$**\n",
    "* **Choose some other distributions of our own volition**"
   ]
  },
  {
   "attachments": {},
   "cell_type": "markdown",
   "metadata": {},
   "source": [
    "### a) Constant service time"
   ]
  },
  {
   "cell_type": "code",
   "execution_count": 12,
   "metadata": {},
   "outputs": [],
   "source": [
    "sample_service_time_constant = lambda : 8"
   ]
  },
  {
   "cell_type": "code",
   "execution_count": 13,
   "metadata": {},
   "outputs": [
    {
     "name": "stdout",
     "output_type": "stream",
     "text": [
      "run 1\n",
      "run 2\n",
      "run 3\n",
      "run 4\n",
      "run 5\n",
      "run 6\n",
      "run 7\n",
      "run 8\n",
      "run 9\n",
      "run 10\n",
      "The fraction of blocked customers \n",
      "[0.1208, 0.1266, 0.1284, 0.1288, 0.1243, 0.1182, 0.1229, 0.1219, 0.1227, 0.1213]\n",
      "Confidence interval for the mean blocking fraction: [0.12411488928767918, 0.1244369925590228]\n"
     ]
    }
   ],
   "source": [
    "block_fraction = blocking_simulation(sample_service_time=sample_service_time_constant)\n",
    "\n",
    "block_fraction_conf = compute_confidence_interval_sample(block_fraction)\n",
    "\n",
    "print(f\"The fraction of blocked customers \\n{block_fraction}\")\n",
    "print(f\"Confidence interval for the mean blocking fraction: {block_fraction_conf}\")"
   ]
  },
  {
   "attachments": {},
   "cell_type": "markdown",
   "metadata": {},
   "source": [
    "### b) Pareto distributed\n"
   ]
  },
  {
   "cell_type": "code",
   "execution_count": 14,
   "metadata": {},
   "outputs": [],
   "source": [
    "k = 1.05 \n",
    "\n",
    "def sample_service_time_pareto() -> float:\n",
    "    \"\"\"\n",
    "        Sample the service time from an exponential distribution.\n",
    "        \n",
    "        :return: service time (as a float)\n",
    "    \"\"\"\n",
    "    U = np.random.uniform(0.0, 1.0, 1)\n",
    "    beta = (k - 1) / k\n",
    "    return beta * (U**(-1 / k) - 1)\n",
    "\n",
    "\n",
    "def pareto_samples(k, num_samples: int):\n",
    "    U = np.random.uniform(0.0, 1.0, num_samples)\n",
    "    beta = 8*(k - 1) / k\n",
    "    X = beta*(U**(-1/k))\n",
    "\n",
    "    return X"
   ]
  },
  {
   "cell_type": "code",
   "execution_count": 15,
   "metadata": {},
   "outputs": [],
   "source": [
    "k_list = np.linspace(1.05, 2.05, 2) # <-- might just be one of the most insane lines of code I have ever seen\n",
    "k_list = np.array([1.05, 2.05])\n",
    "\n",
    "def sample_service_time_pareto(k) -> float:\n",
    "    \"\"\"\n",
    "        Sample the service time from an pareto distribution.\n",
    "        \n",
    "        :return: service time (as a float) will be above 1\n",
    "    \"\"\"\n",
    "    return scipy.stats.pareto.rvs(k)\n"
   ]
  },
  {
   "attachments": {},
   "cell_type": "markdown",
   "metadata": {},
   "source": [
    "Simulation with the different k values"
   ]
  },
  {
   "cell_type": "code",
   "execution_count": 16,
   "metadata": {},
   "outputs": [
    {
     "name": "stdout",
     "output_type": "stream",
     "text": [
      "Pareto with k=1.05\n",
      "run 1\n",
      "run 2\n",
      "run 3\n",
      "run 4\n",
      "run 5\n",
      "run 6\n",
      "run 7\n",
      "run 8\n",
      "run 9\n",
      "run 10\n",
      "Pareto with k=2.05\n",
      "run 1\n",
      "run 2\n",
      "run 3\n",
      "run 4\n",
      "run 5\n",
      "run 6\n",
      "run 7\n",
      "run 8\n",
      "run 9\n",
      "run 10\n",
      "[[0.12144097224093167, 0.1232027714859298], [1.483543639917555e-05, 1.7802747638151312e-05]]\n"
     ]
    }
   ],
   "source": [
    "pareto_confs = []\n",
    "for k in k_list:\n",
    "    print(f\"Pareto with k={k}\")\n",
    "    temp_lambda = lambda : sample_service_time_pareto(k)\n",
    "    block_fraction = blocking_simulation(sample_service_time=temp_lambda)\n",
    "    block_fraction_conf = compute_confidence_interval_sample(block_fraction)\n",
    "\n",
    "    pareto_confs.append(block_fraction_conf)    \n",
    "    \n",
    "print(pareto_confs)"
   ]
  },
  {
   "attachments": {},
   "cell_type": "markdown",
   "metadata": {},
   "source": [
    "Does not work. "
   ]
  },
  {
   "cell_type": "code",
   "execution_count": 17,
   "metadata": {},
   "outputs": [
    {
     "name": "stdout",
     "output_type": "stream",
     "text": [
      "3.549655405753638\n"
     ]
    }
   ],
   "source": [
    "k = 1.05\n",
    "U = np.random.uniform(0.0, 1.0, 1000000)\n",
    "beta = 8*((k - 1) / k)\n",
    "samples = beta * (np.power(U, (-1 / k)) - 1)\n",
    "#samples = beta * (U**(-1 / k) - 1)\n",
    "\n",
    "print(samples.mean())"
   ]
  }
 ],
 "metadata": {
  "kernelspec": {
   "display_name": "SSenv",
   "language": "python",
   "name": "python3"
  },
  "language_info": {
   "codemirror_mode": {
    "name": "ipython",
    "version": 3
   },
   "file_extension": ".py",
   "mimetype": "text/x-python",
   "name": "python",
   "nbconvert_exporter": "python",
   "pygments_lexer": "ipython3",
   "version": "3.10.6"
  },
  "orig_nbformat": 4
 },
 "nbformat": 4,
 "nbformat_minor": 2
}
