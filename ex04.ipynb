{
 "cells": [
  {
   "attachments": {},
   "cell_type": "markdown",
   "metadata": {},
   "source": [
    "# Exercises day 03"
   ]
  },
  {
   "cell_type": "code",
   "execution_count": 1,
   "metadata": {},
   "outputs": [],
   "source": [
    "import numpy as np\n",
    "import matplotlib.pyplot as plt\n",
    "import scipy\n",
    "from typing import Callable\n",
    "\n",
    "def compute_confidence_interval_sample(data : list[float], confidence : float = 0.95) -> list[float]:\n",
    "    \"\"\"\n",
    "        Compute the confidence interval of the mean of the data.\n",
    "        :param data: list of data\n",
    "        :param confidence: confidence level\n",
    "        \n",
    "        :return: confidence interval of the mean of the data\n",
    "    \"\"\"\n",
    "    N = len(data)\n",
    "    alpha = 1 - confidence\n",
    "\n",
    "    data = np.array(data)\n",
    "    #conf_mean = [data.mean - confidence * data.std()/np.sqrt(N), data.mean + confidence * data.std()/np.sqrt(N)]\n",
    "    conf_mean = [data.mean() + data.std()/np.sqrt(N) * scipy.stats.t.cdf(alpha/2, N - 1), data.mean() + data.std()/np.sqrt(N) * scipy.stats.t.cdf(1-alpha/2, N - 1)]\n",
    "    return conf_mean\n",
    "    "
   ]
  },
  {
   "attachments": {},
   "cell_type": "markdown",
   "metadata": {},
   "source": [
    "## Ex01\n",
    "The event for the blocking system is has the possible following event:\n",
    "\n",
    "* Arrival of a customer \n",
    "* Customer is served\n",
    "* Customer is blocked, as all $m$ service unints is occupied.\n",
    "\n",
    "For part 1 the arrival process is modelled as a Poisson process, and the service time distribution as exponential."
   ]
  },
  {
   "cell_type": "code",
   "execution_count": 2,
   "metadata": {},
   "outputs": [],
   "source": [
    "# Define blocking system\n",
    "m = 10              # service units\n",
    "SERVICE_MEAN = 8    # 1/mean service time\n",
    "ARRIVAL_MEAN = 1    # mean arrival time      \n"
   ]
  },
  {
   "attachments": {},
   "cell_type": "markdown",
   "metadata": {},
   "source": [
    "Class for service units"
   ]
  },
  {
   "cell_type": "code",
   "execution_count": 3,
   "metadata": {},
   "outputs": [],
   "source": [
    "class Event:\n",
    "    def __init__(self, event_type : str, time : float, ) -> None:\n",
    "        if event_type.lower() not in ['arrival', 'departure']:\n",
    "            raise ValueError('event_type must be either arrival or departure')\n",
    "        self.event_type = event_type\n",
    "        self.time = time\n",
    "       "
   ]
  },
  {
   "cell_type": "code",
   "execution_count": 4,
   "metadata": {},
   "outputs": [],
   "source": [
    "def sample_arrival_poisson_process() -> float:\n",
    "    \"\"\"\n",
    "        Sample the arrival time from a Poisson process.\n",
    "        \n",
    "        :return: arrival time (as a float)\n",
    "    \"\"\"\n",
    "    return np.random.exponential(ARRIVAL_MEAN) # TODO: check if is it not 1/arrial_mean\n",
    "\n",
    "\n",
    "def sample_service_time_exponential() -> float:\n",
    "    \"\"\"\n",
    "        Sample the service time from an exponential distribution.\n",
    "        \n",
    "        :return: service time (as a float)\n",
    "    \"\"\"\n",
    "    return np.random.exponential(SERVICE_MEAN) \n",
    "\n",
    "\n",
    "def check_available_service(service_units : list[bool]) -> tuple[int, bool]:\n",
    "    \"\"\"\n",
    "    \n",
    "    \"\"\"\n",
    "    for indx, unit_occupied in enumerate(service_units):\n",
    "        if not unit_occupied:\n",
    "            return indx, True\n",
    "        \n",
    "    return None, False\n",
    "\n",
    "\n",
    "def apend_event(event_list : list[Event], event_to_append : Event) -> list[Event]:\n",
    "    \"\"\"\n",
    "\n",
    "    \"\"\"\n",
    "    for indx, event in enumerate(event_list):\n",
    "        \n",
    "        if event.time > event_to_append.time:\n",
    "            event_list.insert(indx, event_to_append)\n",
    "            return event_list\n",
    "        \n",
    "    event_list.append(event_to_append)\n",
    "    return event_list"
   ]
  },
  {
   "attachments": {},
   "cell_type": "markdown",
   "metadata": {},
   "source": [
    "Simulation:"
   ]
  },
  {
   "cell_type": "code",
   "execution_count": 5,
   "metadata": {},
   "outputs": [],
   "source": [
    "def blocking_simulation(\n",
    "    simulation_runs : int = 10,\n",
    "    m : int = 10,\n",
    "    N : int = 10000,\n",
    "    sample_arrival : Callable[[], float] = sample_arrival_poisson_process,\n",
    "    sample_service_time : Callable[[], float] = sample_service_time_exponential\n",
    "    ) -> list[float]:\n",
    "    \"\"\"\n",
    "        A function for runinng multiple simulations of a blocking system.\n",
    "        \n",
    "        :param simulation_runs: number of simulations to run\n",
    "        :param m: number of service units\n",
    "        :param N: number of customers\n",
    "        :param sample_arrival: function for sampling arrival time\n",
    "        :param sample_service_time: function for sampling service time\n",
    "        \n",
    "        :return: list of blocked fractions\n",
    "    \"\"\"\n",
    "    # NOTE: Maybe use burn in period...?\n",
    "    \n",
    "    blocked_fractions = []\n",
    "    for i in range(simulation_runs):\n",
    "        print(f\"run {i+1}\")\n",
    "        custmer_count = 0\n",
    "        global_time = 0\n",
    "        event_counter = 0\n",
    "        block_count = 0\n",
    "\n",
    "        # lists\n",
    "        event_list = []\n",
    "        service_units_status = [False for _ in range(m)]    # <-- Indicates whether the service units are occupied or not\n",
    "        \n",
    "        # First arrival\n",
    "        first_arrival = sample_arrival()\n",
    "        event_list.append(Event('arrival', global_time + first_arrival))\n",
    "        global_time += first_arrival\n",
    "        event_list.append(Event('departure', global_time + sample_service_time()))\n",
    "        service_units_status[0] = True # <-- unit 1 is occupied\n",
    "\n",
    "        while custmer_count < N:\n",
    "            \n",
    "            current_event = event_list[event_counter]\n",
    "\n",
    "            # Increment global time\n",
    "            global_time = current_event.time\n",
    "\n",
    "            if current_event.event_type == 'arrival':\n",
    "                custmer_count += 1\n",
    "\n",
    "                # Check for free service units\n",
    "                indx, available = check_available_service(service_units_status)\n",
    "                \n",
    "                if available:\n",
    "                    # Insert departure event and depend to eventlist\n",
    "                    \n",
    "            \n",
    "                    departure_event = Event('departure', global_time + sample_service_time())\n",
    "                    event_list = apend_event(event_list, departure_event)\n",
    "\n",
    "                    # Take service unit\n",
    "                    service_units_status[indx] = True # <-- unit indx is occupied\n",
    "\n",
    "                if not available:\n",
    "                    # Costumer blocked\n",
    "                    block_count += 1\n",
    "                \n",
    "                # insert time for next arrival\n",
    "                arrival_event = Event('arrival', global_time + sample_arrival())\n",
    "                event_list = apend_event(event_list, arrival_event)\n",
    "\n",
    "            elif current_event.event_type == 'departure': \n",
    "                # Free the service unit for the current departure event\n",
    "                for indx, unit_occupied in enumerate(service_units_status):\n",
    "                    if unit_occupied:\n",
    "                        service_units_status[indx] = False # <-- unit indx is free\n",
    "                        break\n",
    "                        \n",
    "            # increment event counter\n",
    "            event_counter += 1\n",
    "        \n",
    "        blocked_fractions.append(block_count / N)\n",
    "    \n",
    "    return blocked_fractions"
   ]
  },
  {
   "cell_type": "code",
   "execution_count": 6,
   "metadata": {},
   "outputs": [
    {
     "name": "stdout",
     "output_type": "stream",
     "text": [
      "run 1\n",
      "run 2\n",
      "run 3\n",
      "run 4\n",
      "run 5\n",
      "run 6\n",
      "run 7\n",
      "run 8\n",
      "run 9\n",
      "run 10\n",
      "The fraction of blocked customers \n",
      "[0.1226, 0.1243, 0.1201, 0.121, 0.1295, 0.1321, 0.1226, 0.1152, 0.1346, 0.1189]\n",
      "Confidence interval for the mean blocking fraction: [0.1250295758796117, 0.12560615549668985]\n"
     ]
    }
   ],
   "source": [
    "block_fraction = blocking_simulation()\n",
    "\n",
    "block_fraction_conf = compute_confidence_interval_sample(block_fraction)\n",
    "\n",
    "print(f\"The fraction of blocked customers \\n{block_fraction}\")\n",
    "print(f\"Confidence interval for the mean blocking fraction: {block_fraction_conf}\")\n"
   ]
  },
  {
   "attachments": {},
   "cell_type": "markdown",
   "metadata": {},
   "source": [
    "Exact solution"
   ]
  },
  {
   "cell_type": "code",
   "execution_count": 7,
   "metadata": {},
   "outputs": [
    {
     "name": "stdout",
     "output_type": "stream",
     "text": [
      "Exact blocking probability: 0.12166106425295149\n"
     ]
    }
   ],
   "source": [
    "A = ARRIVAL_MEAN * SERVICE_MEAN\n",
    "\n",
    "B = (A**m/np.math.factorial(m))/np.sum([(A**i)/np.math.factorial(i) for i in range(m+1)])\n",
    "print(f\"Exact blocking probability: {B}\")"
   ]
  },
  {
   "attachments": {},
   "cell_type": "markdown",
   "metadata": {},
   "source": [
    "The simulation is sufficiently close to the found exact solution."
   ]
  },
  {
   "attachments": {},
   "cell_type": "markdown",
   "metadata": {},
   "source": [
    "## EX02\n",
    "The model is now redefined for more other arrival processes of the costumers.\n",
    "\n",
    "### a) Erlang distributed arrival\n"
   ]
  },
  {
   "cell_type": "code",
   "execution_count": 8,
   "metadata": {},
   "outputs": [],
   "source": [
    "def sample_arrival_erlang() -> float:\n",
    "    \"\"\"\n",
    "        Sample the arrival time from an erlang distribution with a = 1.\n",
    "        (NOTE: a = 1, is apparently the mean value in SciPys implementation, idk we asked a TA)\n",
    "        \n",
    "        :return: arrival time (as a float)\n",
    "    \"\"\"\n",
    "    return scipy.stats.erlang.rvs(a = 1)"
   ]
  },
  {
   "cell_type": "code",
   "execution_count": 9,
   "metadata": {},
   "outputs": [
    {
     "name": "stdout",
     "output_type": "stream",
     "text": [
      "run 1\n",
      "run 2\n",
      "run 3\n",
      "run 4\n",
      "run 5\n",
      "run 6\n",
      "run 7\n",
      "run 8\n",
      "run 9\n",
      "run 10\n",
      "The fraction of blocked customers \n",
      "[0.1285, 0.1289, 0.1149, 0.1201, 0.1094, 0.1183, 0.1242, 0.1204, 0.1263, 0.1209]\n",
      "Confidence interval for the mean blocking fraction: [0.12212550248251536, 0.12269958242097362]\n"
     ]
    }
   ],
   "source": [
    "block_fraction = blocking_simulation(sample_arrival=sample_arrival_erlang)\n",
    "\n",
    "block_fraction_conf = compute_confidence_interval_sample(block_fraction)\n",
    "\n",
    "print(f\"The fraction of blocked customers \\n{block_fraction}\")\n",
    "print(f\"Confidence interval for the mean blocking fraction: {block_fraction_conf}\")"
   ]
  },
  {
   "attachments": {},
   "cell_type": "markdown",
   "metadata": {},
   "source": [
    "### b) hyper exponential distribution\n",
    "For sampling from the hyper exponential distribution we utilize the Composition methods from last week"
   ]
  },
  {
   "cell_type": "code",
   "execution_count": 10,
   "metadata": {},
   "outputs": [],
   "source": [
    "HYPER_PROB = 0.8\n",
    "HYPER_MEAN = [1/0.8333, 1/5.]\n",
    "\n",
    "def sample_arrival_hyper_exponential() -> float:\n",
    "    \"\"\"\n",
    "    \"\"\"\n",
    "    p = np.random.binomial(n=1,p= HYPER_PROB)\n",
    "\n",
    "    if p:\n",
    "        return np.random.exponential(HYPER_MEAN[0])\n",
    "    else:\n",
    "        return np.random.exponential(HYPER_MEAN[1])\n"
   ]
  },
  {
   "attachments": {},
   "cell_type": "markdown",
   "metadata": {},
   "source": [
    "Simulation:"
   ]
  },
  {
   "cell_type": "code",
   "execution_count": 11,
   "metadata": {},
   "outputs": [
    {
     "name": "stdout",
     "output_type": "stream",
     "text": [
      "run 1\n",
      "run 2\n",
      "run 3\n",
      "run 4\n",
      "run 5\n",
      "run 6\n",
      "run 7\n",
      "run 8\n",
      "run 9\n",
      "run 10\n",
      "The fraction of blocked customers \n",
      "[0.1445, 0.1413, 0.1349, 0.1347, 0.1324, 0.1393, 0.1412, 0.1313, 0.1393, 0.1394]\n",
      "Confidence interval for the mean blocking fraction: [0.13848508018972264, 0.13888707633834863]\n"
     ]
    }
   ],
   "source": [
    "block_fraction = blocking_simulation(sample_arrival=sample_arrival_hyper_exponential)\n",
    "\n",
    "block_fraction_conf = compute_confidence_interval_sample(block_fraction)\n",
    "\n",
    "print(f\"The fraction of blocked customers \\n{block_fraction}\")\n",
    "print(f\"Confidence interval for the mean blocking fraction: {block_fraction_conf}\")"
   ]
  },
  {
   "attachments": {},
   "cell_type": "markdown",
   "metadata": {},
   "source": [
    "## Ex03\n",
    "\n",
    "**We reuse Poisson from** *Ex01* **but then we use some new distributions for sampling the service time**\n",
    "* **Constant service time**\n",
    "* **Paretto distributed with $k = 1.05$ or $k = 2.05$**\n",
    "* **Choose some other distributions of our own volition**"
   ]
  },
  {
   "attachments": {},
   "cell_type": "markdown",
   "metadata": {},
   "source": [
    "### a) Constant service time"
   ]
  },
  {
   "cell_type": "code",
   "execution_count": 12,
   "metadata": {},
   "outputs": [],
   "source": [
    "sample_service_time_constant = lambda : 8"
   ]
  },
  {
   "cell_type": "code",
   "execution_count": 13,
   "metadata": {},
   "outputs": [
    {
     "name": "stdout",
     "output_type": "stream",
     "text": [
      "run 1\n",
      "run 2\n",
      "run 3\n",
      "run 4\n",
      "run 5\n",
      "run 6\n",
      "run 7\n",
      "run 8\n",
      "run 9\n",
      "run 10\n",
      "The fraction of blocked customers \n",
      "[0.1208, 0.1266, 0.1284, 0.1288, 0.1243, 0.1182, 0.1229, 0.1219, 0.1227, 0.1213]\n",
      "Confidence interval for the mean blocking fraction: [0.12411488928767918, 0.1244369925590228]\n"
     ]
    }
   ],
   "source": [
    "block_fraction = blocking_simulation(sample_service_time=sample_service_time_constant)\n",
    "\n",
    "block_fraction_conf = compute_confidence_interval_sample(block_fraction)\n",
    "\n",
    "print(f\"The fraction of blocked customers \\n{block_fraction}\")\n",
    "print(f\"Confidence interval for the mean blocking fraction: {block_fraction_conf}\")"
   ]
  },
  {
   "attachments": {},
   "cell_type": "markdown",
   "metadata": {},
   "source": [
    "### b) Pareto distributed\n"
   ]
  },
  {
   "cell_type": "code",
   "execution_count": 14,
   "metadata": {},
   "outputs": [],
   "source": [
    "k = 1.05 \n",
    "\n",
    "def sample_service_time_pareto() -> float:\n",
    "    \"\"\"\n",
    "        Sample the service time from an exponential distribution.\n",
    "        \n",
    "        :return: service time (as a float)\n",
    "    \"\"\"\n",
    "    U = np.random.uniform(0.0, 1.0, 1)\n",
    "    beta = (k - 1) / k\n",
    "    return beta * (U**(-1 / k) - 1)\n",
    "\n",
    "\n",
    "def pareto_samples(k, num_samples: int):\n",
    "    U = np.random.uniform(0.0, 1.0, num_samples)\n",
    "    beta = 8*(k - 1) / k\n",
    "    X = beta*(U**(-1/k))\n",
    "\n",
    "    return X"
   ]
  },
  {
   "cell_type": "code",
   "execution_count": 15,
   "metadata": {},
   "outputs": [],
   "source": [
    "k_list = np.linspace(1.05, 2.05, 2) # <-- might just be one of the most insane lines of code I have ever seen\n",
    "k_list = np.array([1.05, 2.05])\n",
    "\n",
    "def sample_service_time_pareto(k) -> float:\n",
    "    \"\"\"\n",
    "        Sample the service time from an pareto distribution.\n",
    "        \n",
    "        :return: service time (as a float) will be above 1\n",
    "    \"\"\"\n",
    "    return scipy.stats.pareto.rvs(k)\n"
   ]
  },
  {
   "attachments": {},
   "cell_type": "markdown",
   "metadata": {},
   "source": [
    "Simulation with the different k values"
   ]
  },
  {
   "cell_type": "code",
   "execution_count": 16,
   "metadata": {},
   "outputs": [
    {
     "name": "stdout",
     "output_type": "stream",
     "text": [
      "Pareto with k=1.05\n",
      "run 1\n",
      "run 2\n",
      "run 3\n",
      "run 4\n",
      "run 5\n",
      "run 6\n",
      "run 7\n",
      "run 8\n",
      "run 9\n",
      "run 10\n",
      "Pareto with k=2.05\n",
      "run 1\n",
      "run 2\n",
      "run 3\n",
      "run 4\n",
      "run 5\n",
      "run 6\n",
      "run 7\n",
      "run 8\n",
      "run 9\n",
      "run 10\n",
      "[[0.12144097224093167, 0.1232027714859298], [1.483543639917555e-05, 1.7802747638151312e-05]]\n"
     ]
    }
   ],
   "source": [
    "pareto_confs = []\n",
    "for k in k_list:\n",
    "    print(f\"Pareto with k={k}\")\n",
    "    temp_lambda = lambda : sample_service_time_pareto(k)\n",
    "    block_fraction = blocking_simulation(sample_service_time=temp_lambda)\n",
    "    block_fraction_conf = compute_confidence_interval_sample(block_fraction)\n",
    "\n",
    "    pareto_confs.append(block_fraction_conf)    \n",
    "    \n",
    "print(pareto_confs)"
   ]
  },
  {
   "attachments": {},
   "cell_type": "markdown",
   "metadata": {},
   "source": [
    "Does not work. "
   ]
  },
  {
   "cell_type": "code",
   "execution_count": 17,
   "metadata": {},
   "outputs": [
    {
     "name": "stdout",
     "output_type": "stream",
     "text": [
      "3.549655405753638\n"
     ]
    }
   ],
   "source": [
    "k = 1.05\n",
    "U = np.random.uniform(0.0, 1.0, 1000000)\n",
    "beta = 8*((k - 1) / k)\n",
    "samples = beta * (np.power(U, (-1 / k)) - 1)\n",
    "#samples = beta * (U**(-1 / k) - 1)\n",
    "\n",
    "print(samples.mean())"
   ]
  }
 ],
 "metadata": {
  "kernelspec": {
   "display_name": "SSenv",
   "language": "python",
   "name": "python3"
  },
  "language_info": {
   "codemirror_mode": {
    "name": "ipython",
    "version": 3
   },
   "file_extension": ".py",
   "mimetype": "text/x-python",
   "name": "python",
   "nbconvert_exporter": "python",
   "pygments_lexer": "ipython3",
   "version": "3.10.6"
  },
  "orig_nbformat": 4
 },
 "nbformat": 4,
 "nbformat_minor": 2
}
