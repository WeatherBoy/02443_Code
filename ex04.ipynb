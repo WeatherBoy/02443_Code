{
 "cells": [
  {
   "attachments": {},
   "cell_type": "markdown",
   "metadata": {},
   "source": [
    "# Exercises day 03"
   ]
  },
  {
   "cell_type": "code",
   "execution_count": 19,
   "metadata": {},
   "outputs": [
    {
     "name": "stdout",
     "output_type": "stream",
     "text": [
      "The autoreload extension is already loaded. To reload it, use:\n",
      "  %reload_ext autoreload\n"
     ]
    }
   ],
   "source": [
    "%load_ext autoreload\n",
    "%autoreload 2\n",
    "\n",
    "import numpy as np\n",
    "import matplotlib.pyplot as plt\n",
    "import scipy\n",
    "from typing import Callable\n",
    "from helper_functions import *\n",
    "\n",
    "def compute_confidence_interval_sample(data : list[float], confidence : float = 0.95, normal : bool = False ) -> list[float]:\n",
    "    \"\"\"\n",
    "        Compute the confidence interval of the mean of the data.\n",
    "        :param data: list of data\n",
    "        :param confidence: confidence level\n",
    "        :param normal: whether of not the data is assumed normal distributed\n",
    "        \n",
    "        :return: confidence interval of the mean of the data\n",
    "    \"\"\"\n",
    "    N = len(data)\n",
    "    alpha = 1 - confidence\n",
    "\n",
    "    data = np.array(data)\n",
    "    if normal:\n",
    "        conf_mean = [data.mean() - data.std()/np.sqrt(N) * scipy.stats.t.cdf(1-alpha/2, N - 1), data.mean() + data.std()/np.sqrt(N) * scipy.stats.t.cdf(1-alpha/2, N - 1)]\n",
    "    else:\n",
    "        conf_mean = [data.mean() - confidence * data.std()/np.sqrt(N), data.mean() + confidence * data.std()/np.sqrt(N)]\n",
    "    \n",
    "    return conf_mean\n"
   ]
  },
  {
   "attachments": {},
   "cell_type": "markdown",
   "metadata": {},
   "source": [
    "## Ex01\n",
    "The event for the blocking system is has the possible following event:\n",
    "\n",
    "* Arrival of a customer \n",
    "* Customer is served\n",
    "* Customer is blocked, as all $m$ service unints is occupied.\n",
    "\n",
    "For part 1 the arrival process is modelled as a Poisson process, and the service time distribution as exponential. For a poisson process wit the mean $\\lambda$ we know that the intervals between the events are exponential distributied with the same parameter. We can use this information for sampling the arrival times for the system."
   ]
  },
  {
   "cell_type": "code",
   "execution_count": 20,
   "metadata": {},
   "outputs": [],
   "source": [
    "# Define blocking system\n",
    "m = 10              # service units\n",
    "SERVICE_MEAN = 8    # 1/mean service time\n",
    "ARRIVAL_MEAN = 1    # mean arrival time      "
   ]
  },
  {
   "attachments": {},
   "cell_type": "markdown",
   "metadata": {},
   "source": [
    "The implementation of the simulations follows the event-by-event principle. As the method is quite simple one could sample all the arrivals beforehand, but this approuch is not always posible for other descrete events, so we choose to follow the event-by-event principle. Here all event are stored in an event list, that contrains the eventype and is sorted by the event time.\n",
    "\n",
    "The simulation is initiated by the first arrival, and all service units are initialized to be free. The simulations then begins in a while loop until all of the choosen arrivals has happened. Here the next event is simply the next in the event list as the list is sorted by increasing time. The simulation should imitate the steady state probability of the blocking, the simulation should run a little time before counting the blocking rate. \n",
    "\n",
    "An event is handled differently compared to what kind of event it is. For an arrival we first check if there is free service unit. If there is one, and service time is sampled and added to the eventlist, of not the customer er blocked and the blocked customer count is encreased by one. For an departure a service unit is freed so that the number of occupied service units is decreases by one. The probability of blocking is therefore simply the blocking count devided by the total number of arrivals. \n",
    "\n",
    "The code for the simulation can be found in the python file `helper_functions`. Because you might be interested in other distributions for the arrival- and service time the simulation function takes two inputs that is the sampling from these distributions. The sampling function for the frist exercise is given as:"
   ]
  },
  {
   "cell_type": "code",
   "execution_count": 21,
   "metadata": {},
   "outputs": [],
   "source": [
    "def sample_arrival_poisson_process() -> float:\n",
    "    \"\"\"\n",
    "        Sample the arrival time from a Poisson process.\n",
    "        \n",
    "        :return: arrival time (as a float)\n",
    "    \"\"\"\n",
    "    return np.random.exponential(ARRIVAL_MEAN) # TODO: check if is it not 1/arrial_mean\n",
    "\n",
    "\n",
    "def sample_service_time_exponential() -> float:\n",
    "    \"\"\"\n",
    "        Sample the service time from an exponential distribution.\n",
    "        \n",
    "        :return: service time (as a float)\n",
    "    \"\"\"\n",
    "    return np.random.exponential(SERVICE_MEAN) \n"
   ]
  },
  {
   "attachments": {},
   "cell_type": "markdown",
   "metadata": {},
   "source": [
    "The simulation gave the results:"
   ]
  },
  {
   "cell_type": "code",
   "execution_count": 22,
   "metadata": {},
   "outputs": [
    {
     "name": "stdout",
     "output_type": "stream",
     "text": [
      "run 1\n"
     ]
    },
    {
     "name": "stdout",
     "output_type": "stream",
     "text": [
      "run 2\n",
      "run 3\n",
      "run 4\n",
      "run 5\n",
      "run 6\n",
      "run 7\n",
      "run 8\n",
      "run 9\n",
      "run 10\n",
      "The fraction of blocked customers \n",
      "[0.1208, 0.1236, 0.1287, 0.1212, 0.1193, 0.127, 0.1201, 0.1247, 0.1229, 0.1179]\n",
      "Confidence interval for the mean blocking fraction: [0.1231459943371975, 0.12346877573262023]\n"
     ]
    }
   ],
   "source": [
    "block_fraction_initial, _ = blocking_simulation()\n",
    "\n",
    "block_fraction_conf_initial = compute_confidence_interval_sample(block_fraction_initial)\n",
    "\n",
    "print(f\"The fraction of blocked customers \\n{block_fraction_initial}\")\n",
    "print(f\"Confidence interval for the mean blocking fraction: {block_fraction_conf_initial}\")\n"
   ]
  },
  {
   "attachments": {},
   "cell_type": "markdown",
   "metadata": {},
   "source": [
    "Exact solution"
   ]
  },
  {
   "cell_type": "code",
   "execution_count": 23,
   "metadata": {},
   "outputs": [
    {
     "name": "stdout",
     "output_type": "stream",
     "text": [
      "Exact blocking probability: 0.12166106425295149\n"
     ]
    }
   ],
   "source": [
    "A = ARRIVAL_MEAN * SERVICE_MEAN\n",
    "\n",
    "B = (A**m/np.math.factorial(m))/np.sum([(A**i)/np.math.factorial(i) for i in range(m+1)])\n",
    "print(f\"Exact blocking probability: {B}\")"
   ]
  },
  {
   "attachments": {},
   "cell_type": "markdown",
   "metadata": {},
   "source": [
    "The simulation is sufficiently close to the found exact solution."
   ]
  },
  {
   "attachments": {},
   "cell_type": "markdown",
   "metadata": {},
   "source": [
    "## EX02\n",
    "The simulation is repeated with different arrival- and service time distributions. \n",
    "\n",
    "### a) Erlang distributed arrival\n"
   ]
  },
  {
   "cell_type": "code",
   "execution_count": 24,
   "metadata": {},
   "outputs": [],
   "source": [
    "def sample_arrival_erlang() -> float:\n",
    "    \"\"\"\n",
    "        Sample the arrival time from an erlang distribution with a = 1.\n",
    "        (NOTE: a = 1, is apparently the mean value in SciPys implementation, idk we asked a TA)\n",
    "        \n",
    "        :return: arrival time (as a float)\n",
    "    \"\"\"\n",
    "    return scipy.stats.erlang.rvs(a = 1)"
   ]
  },
  {
   "cell_type": "code",
   "execution_count": 25,
   "metadata": {},
   "outputs": [
    {
     "name": "stdout",
     "output_type": "stream",
     "text": [
      "run 1\n",
      "run 2\n",
      "run 3\n",
      "run 4\n",
      "run 5\n",
      "run 6\n",
      "run 7\n",
      "run 8\n",
      "run 9\n",
      "run 10\n",
      "The fraction of blocked customers \n",
      "([0.1223, 0.1158, 0.1274, 0.1241, 0.1293, 0.1166, 0.1204, 0.1162, 0.1272, 0.1254], [0.9951615492869951, 1.00810369659581, 0.9947058147488406, 0.9965304990898443, 0.9918000496675222, 0.9918413446143505, 0.9779250964816923, 0.9992749100559786, 0.9985346678364034, 0.9934674233046898])\n",
      "Confidence interval for the mean blocking fraction: [0.7152672322477933, 0.7886763281271463]\n"
     ]
    }
   ],
   "source": [
    "block_fraction_erlang_arrival = blocking_simulation(sample_arrival=sample_arrival_erlang)\n",
    "\n",
    "block_fraction_conf_erlang_arrival = compute_confidence_interval_sample(block_fraction_erlang_arrival)\n",
    "\n",
    "print(f\"The fraction of blocked customers \\n{block_fraction_erlang_arrival}\")\n",
    "print(f\"Confidence interval for the mean blocking fraction: {block_fraction_conf_erlang_arrival}\")"
   ]
  },
  {
   "attachments": {},
   "cell_type": "markdown",
   "metadata": {},
   "source": [
    "### b) hyper exponential distribution\n",
    "For sampling from the hyper exponential distribution we utilize the Composition methods from last week"
   ]
  },
  {
   "cell_type": "code",
   "execution_count": 26,
   "metadata": {},
   "outputs": [],
   "source": [
    "\n",
    "\n",
    "def sample_arrival_hyper_exponential() -> float:\n",
    "    \"\"\"\n",
    "        Sample the arrival time from a hyper-exponential distribution.\n",
    "        With probability 0.8 of having mean 1/0.8333 and probability 0.2 of having mean 1/5.\n",
    "        \n",
    "        :return: arrival time (as a float)\n",
    "    \"\"\"\n",
    "    # The following two constants were ordained by Bo himself\n",
    "    HYPER_PROB = 0.8\n",
    "    HYPER_MEAN = [1/0.8333, 1/5.]\n",
    "\n",
    "    first_exponential = np.random.binomial(n=1, p=HYPER_PROB)\n",
    "\n",
    "    if first_exponential:\n",
    "        return np.random.exponential(HYPER_MEAN[0])\n",
    "    elif not first_exponential:\n",
    "        return np.random.exponential(HYPER_MEAN[1])\n"
   ]
  },
  {
   "attachments": {},
   "cell_type": "markdown",
   "metadata": {},
   "source": [
    "Simulation:"
   ]
  },
  {
   "cell_type": "code",
   "execution_count": 27,
   "metadata": {},
   "outputs": [
    {
     "name": "stdout",
     "output_type": "stream",
     "text": [
      "run 1\n",
      "run 2\n",
      "run 3\n",
      "run 4\n",
      "run 5\n",
      "run 6\n",
      "run 7\n",
      "run 8\n",
      "run 9\n",
      "run 10\n",
      "The fraction of blocked customers \n",
      "([0.1358, 0.145, 0.1443, 0.1361, 0.141, 0.1327, 0.1483, 0.1409, 0.14, 0.1366], [1.0107440242623031, 0.9956141845967722, 0.9960784313329288, 0.9909685749888, 1.0009708607204877, 1.0104251382583025, 0.9923345107903677, 0.9927431225792358, 0.9992229335415974, 0.997563073259303])\n",
      "Confidence interval for the mean blocking fraction: [0.7235769037407365, 0.7958350332018057]\n"
     ]
    }
   ],
   "source": [
    "block_fraction_hyper_exp = blocking_simulation(sample_arrival=sample_arrival_hyper_exponential)\n",
    "\n",
    "block_fraction_conf_hyper_exp = compute_confidence_interval_sample(block_fraction_hyper_exp)\n",
    "\n",
    "print(f\"The fraction of blocked customers \\n{block_fraction_hyper_exp}\")\n",
    "print(f\"Confidence interval for the mean blocking fraction: {block_fraction_conf_hyper_exp}\")"
   ]
  },
  {
   "attachments": {},
   "cell_type": "markdown",
   "metadata": {},
   "source": [
    "## Ex03\n",
    "\n",
    "**We reuse Poisson from** *Ex01* **but then we use some new distributions for sampling the service time**\n",
    "* **Constant service time**\n",
    "* **Paretto distributed with $k = 1.05$ or $k = 2.05$**\n",
    "* **Choose some other distributions of our own volition**"
   ]
  },
  {
   "attachments": {},
   "cell_type": "markdown",
   "metadata": {},
   "source": [
    "### a) Constant service time"
   ]
  },
  {
   "cell_type": "code",
   "execution_count": 28,
   "metadata": {},
   "outputs": [],
   "source": [
    "sample_service_time_constant = lambda : 8"
   ]
  },
  {
   "cell_type": "code",
   "execution_count": 29,
   "metadata": {},
   "outputs": [
    {
     "name": "stdout",
     "output_type": "stream",
     "text": [
      "run 1\n"
     ]
    },
    {
     "name": "stdout",
     "output_type": "stream",
     "text": [
      "run 2\n",
      "run 3\n",
      "run 4\n",
      "run 5\n",
      "run 6\n",
      "run 7\n",
      "run 8\n",
      "run 9\n",
      "run 10\n",
      "The fraction of blocked customers \n",
      "([0.1199, 0.1144, 0.1192, 0.1243, 0.1221, 0.1139, 0.1218, 0.1273, 0.1231, 0.1327], [0.9922839283482101, 1.0105995401664705, 1.005194490754565, 1.0095860697446952, 0.9937972925433017, 1.0146222596205638, 0.9998017310259733, 0.9936526023545482, 0.9890794278962627, 0.9823612573168884])\n",
      "Confidence interval for the mean blocking fraction: [0.7180513399299397, 0.7918832909420787]\n"
     ]
    }
   ],
   "source": [
    "block_fraction_const_service = blocking_simulation(sample_service_time=sample_service_time_constant)\n",
    "\n",
    "block_fraction_conf_const_service = compute_confidence_interval_sample(block_fraction_const_service)\n",
    "\n",
    "print(f\"The fraction of blocked customers \\n{block_fraction_const_service}\")\n",
    "print(f\"Confidence interval for the mean blocking fraction: {block_fraction_conf_const_service}\")"
   ]
  },
  {
   "attachments": {},
   "cell_type": "markdown",
   "metadata": {},
   "source": [
    "### b) Pareto distributed\n"
   ]
  },
  {
   "cell_type": "code",
   "execution_count": 30,
   "metadata": {},
   "outputs": [],
   "source": [
    "k = 1.05 \n",
    "\n",
    "def sample_service_time_pareto() -> float:\n",
    "    \"\"\"\n",
    "        Sample the service time from an exponential distribution.\n",
    "        \n",
    "        :return: service time (as a float)\n",
    "    \"\"\"\n",
    "    U = np.random.uniform(0.0, 1.0, 1)\n",
    "    beta = (k - 1) / k\n",
    "    return beta * (U**(-1 / k) - 1)\n",
    "\n",
    "\n",
    "def pareto_samples(k, num_samples: int):\n",
    "    U = np.random.uniform(0.0, 1.0, num_samples)\n",
    "    beta = 8*(k - 1) / k\n",
    "    X = beta*(U**(-1/k))\n",
    "\n",
    "    return X"
   ]
  },
  {
   "cell_type": "code",
   "execution_count": 31,
   "metadata": {},
   "outputs": [],
   "source": [
    "k_list = np.linspace(1.05, 2.05, 2) # <-- might just be one of the most insane lines of code I have ever seen\n",
    "k_list = np.array([1.05, 2.05])\n",
    "\n",
    "def sample_service_time_pareto(k) -> float:\n",
    "    \"\"\"\n",
    "        Sample the service time from an pareto distribution.\n",
    "        \n",
    "        :return: service time (as a float) will be above 1\n",
    "    \"\"\"\n",
    "    return scipy.stats.pareto.rvs(k)\n"
   ]
  },
  {
   "attachments": {},
   "cell_type": "markdown",
   "metadata": {},
   "source": [
    "Simulation with the different k values"
   ]
  },
  {
   "cell_type": "code",
   "execution_count": 32,
   "metadata": {},
   "outputs": [
    {
     "name": "stdout",
     "output_type": "stream",
     "text": [
      "Pareto with k=1.05\n",
      "run 1\n",
      "run 2\n",
      "run 3\n",
      "run 4\n",
      "run 5\n",
      "run 6\n",
      "run 7\n",
      "run 8\n",
      "run 9\n",
      "run 10\n",
      "Pareto with k=2.05\n",
      "run 1\n",
      "run 2\n",
      "run 3\n",
      "run 4\n",
      "run 5\n",
      "run 6\n",
      "run 7\n",
      "run 8\n",
      "run 9\n",
      "run 10\n",
      "[[0.7211477785375172, 0.7955994600778875], [0.6826402338257841, 0.7671731820520162]]\n"
     ]
    }
   ],
   "source": [
    "pareto_confs = []\n",
    "for k in k_list:\n",
    "    print(f\"Pareto with k={k}\")\n",
    "    temp_lambda = lambda : sample_service_time_pareto(k)\n",
    "    block_fraction = blocking_simulation(sample_service_time=temp_lambda)\n",
    "    block_fraction_conf = compute_confidence_interval_sample(block_fraction)\n",
    "\n",
    "    pareto_confs.append(block_fraction_conf)    \n",
    "    \n",
    "print(pareto_confs)\n"
   ]
  },
  {
   "attachments": {},
   "cell_type": "markdown",
   "metadata": {},
   "source": [
    "Does not work. "
   ]
  },
  {
   "cell_type": "code",
   "execution_count": 33,
   "metadata": {},
   "outputs": [
    {
     "name": "stdout",
     "output_type": "stream",
     "text": [
      "4.363072234048273\n"
     ]
    }
   ],
   "source": [
    "k = 1.05\n",
    "U = np.random.uniform(0.0, 1.0, 1000000)\n",
    "beta = 8*((k - 1) / k)\n",
    "samples = beta * (np.power(U, (-1 / k)) - 1)\n",
    "#samples = beta * (U**(-1 / k) - 1)\n",
    "\n",
    "print(samples.mean())"
   ]
  },
  {
   "attachments": {},
   "cell_type": "markdown",
   "metadata": {},
   "source": [
    "## Ex04\n",
    "**Compare confidence intervals for Parts 1, 2, and 3 then interpret and explain differences if any.**\n"
   ]
  },
  {
   "cell_type": "code",
   "execution_count": 37,
   "metadata": {},
   "outputs": [
    {
     "name": "stdout",
     "output_type": "stream",
     "text": [
      "confidence interval for initial simulation: [0.1231459943371975, 0.12346877573262023]\n",
      "Confidence interval for Erlang arrival: [0.7152672322477933, 0.7886763281271463]\n",
      "Confidence interval for Hyperexp arrival: [0.7235769037407365, 0.7958350332018057]\n",
      "Confidence interval constant service: [0.7180513399299397, 0.7918832909420787]\n",
      "Confidence interval pareto, k=1.05: [0.7211477785375172, 0.7955994600778875]\n",
      "Confidence interval pareto, k=2.05: [0.6826402338257841, 0.7671731820520162]\n"
     ]
    },
    {
     "data": {
      "image/png": "[encoded data removed]",
      "text/plain": [
       "<Figure size 1600x900 with 1 Axes>"
      ]
     },
     "metadata": {},
     "output_type": "display_data"
    }
   ],
   "source": [
    "print(f\"confidence interval for initial simulation: {block_fraction_conf_initial}\")\n",
    "print(f\"Confidence interval for Erlang arrival: {block_fraction_conf_erlang_arrival}\")\n",
    "print(f\"Confidence interval for Hyperexp arrival: {block_fraction_conf_hyper_exp}\")\n",
    "print(f\"Confidence interval constant service: {block_fraction_conf_const_service}\")\n",
    "print(f\"Confidence interval pareto, k={k_list[0]}: {pareto_confs[0]}\")\n",
    "print(f\"Confidence interval pareto, k={k_list[1]}: {pareto_confs[1]}\")\n",
    "size_between_y = 5\n",
    "plt.figure(figsize=(16, 9))\n",
    "plt.title(\"Different confidence intervals for the blocking system\")\n",
    "plt.plot(block_fraction_conf_initial, [1, 1], \"bo\", label=\"Initial Simulation\", linewidth=5)\n",
    "plt.plot(block_fraction_conf_erlang_arrival, [1 + size_between_y*1, 1 + size_between_y*1], label=\"Erlang arrival\", linewidth=5)\n",
    "plt.plot(block_fraction_conf_hyper_exp, [1 + size_between_y*2, 1 + size_between_y*2], label=\"Hyperexp arrival\", linewidth=5)\n",
    "plt.plot(block_fraction_conf_const_service, [1 + size_between_y*3, 1 + size_between_y*3], label=\"const service\", linewidth=5)\n",
    "plt.plot(pareto_confs[0], [1 + size_between_y*4, 1 + size_between_y*4], label=f\"Pareto service, k = {k_list[0]}\", linewidth=5)\n",
    "plt.plot(pareto_confs[1], [1 + size_between_y*5, 1 + size_between_y*5], label=f\"Pareto service, k = {k_list[1]}\", linewidth=5)\n",
    "plt.legend()\n",
    "plt.show()"
   ]
  }
 ],
 "metadata": {
  "kernelspec": {
   "display_name": "SSenv",
   "language": "python",
   "name": "python3"
  },
  "language_info": {
   "codemirror_mode": {
    "name": "ipython",
    "version": 3
   },
   "file_extension": ".py",
   "mimetype": "text/x-python",
   "name": "python",
   "nbconvert_exporter": "python",
   "pygments_lexer": "ipython3",
   "version": "3.10.6"
  },
  "orig_nbformat": 4
 },
 "nbformat": 4,
 "nbformat_minor": 2
}
