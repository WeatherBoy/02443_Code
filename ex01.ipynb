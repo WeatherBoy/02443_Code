{
 "cells": [
  {
   "attachments": {},
   "cell_type": "markdown",
   "metadata": {},
   "source": [
    "# Exercises day 01"
   ]
  },
  {
   "attachments": {},
   "cell_type": "markdown",
   "metadata": {},
   "source": [
    "## Ex. 1\n",
    "\n",
    "Implement a Linear Congruental Generator"
   ]
  },
  {
   "cell_type": "code",
   "execution_count": 5,
   "metadata": {},
   "outputs": [],
   "source": [
    "def linear_congruental_generator(multiplier : int, shift : int, modulus: int, x0 : int = None) -> tuple[list[int], list[float]]:\n",
    "    \"\"\"\n",
    "        Generates a list of random numbers using the linear congruental generator method.\n",
    "        \n",
    "        NOTE: random_nums and U will have length 'modulus' if the parameters follows the conditions\n",
    "        of Theorem 1 Maximum Cycle Length.\n",
    "\n",
    "        :param multiplier: The multiplier (a) used in the formula.\n",
    "        :param shift: The shift (c) used in the formula.\n",
    "        :param modulus: The modulus (M) used in the formula.\n",
    "        :param x0: initial value (x0) used in the formula. If not provided, a random value will be used.\n",
    "        \n",
    "        :return random_nums: a list of randomly generated numbers.\n",
    "        :return U: a list of random numbers between 0 and 1.\n",
    "    \"\"\"\n",
    "    import numpy as np\n",
    "    \n",
    "    assert type(modulus) is int, \"Modulus must be an integer.\"\n",
    "    assert modulus > 0, \"Modulus must be greater than 0.\"\n",
    "    \n",
    "    if x0 is None:\n",
    "        x0 = np.random.randint(0, modulus)\n",
    "    \n",
    "    random_nums = [x0]\n",
    "    U = [x0 / modulus]\n",
    "    random_nums_generated = 0\n",
    "    while random_nums_generated < modulus:\n",
    "        random_nums.append((multiplier * random_nums[-1] + shift) % modulus) \n",
    "        U.append(random_nums[-1] / modulus)\n",
    "        random_nums_generated += 1\n",
    "    \n",
    "    return random_nums, U\n",
    "        \n",
    "    \n",
    "    \n",
    "    \n",
    "    "
   ]
  },
  {
   "attachments": {},
   "cell_type": "markdown",
   "metadata": {},
   "source": [
    "Testing whether the Linear Congruental Generator works as presented in the slides"
   ]
  },
  {
   "cell_type": "code",
   "execution_count": 6,
   "metadata": {},
   "outputs": [
    {
     "name": "stdout",
     "output_type": "stream",
     "text": [
      "Random numbers: \n",
      "[3, 0, 1, 6, 15, 12, 13, 2, 11, 8, 9, 14, 7, 4, 5, 10, 3]\n",
      "\n",
      "U: \n",
      "[0.1875, 0.0, 0.0625, 0.375, 0.9375, 0.75, 0.8125, 0.125, 0.6875, 0.5, 0.5625, 0.875, 0.4375, 0.25, 0.3125, 0.625, 0.1875]\n",
      "\n"
     ]
    }
   ],
   "source": [
    "M = 16\n",
    "a = 5\n",
    "c = 1\n",
    "x0 = 3\n",
    "\n",
    "ranom_nums, U = linear_congruental_generator(multiplier=a, shift=c, modulus=M, x0=x0)\n",
    "\n",
    "print(f\"Random numbers: \\n{ranom_nums}\\n\")\n",
    "print(f\"U: \\n{U}\\n\")"
   ]
  },
  {
   "attachments": {},
   "cell_type": "markdown",
   "metadata": {},
   "source": [
    "### Run-tests"
   ]
  },
  {
   "cell_type": "code",
   "execution_count": null,
   "metadata": {},
   "outputs": [],
   "source": [
    "def runs(random_nums : list[float]):\n",
    "    \"\"\"\n",
    "        Calculates the runs of a list of random numbers.\n",
    "        \n",
    "        :param random_nums: a list of random numbers.\n",
    "        \n",
    "        :return R: a list of runs.\n",
    "    \"\"\"\n",
    "    R = []\n",
    "    \n",
    "    previous_run = None\n",
    "    run_length = 0\n",
    "    for i in range(len(random_nums) - 1):\n",
    "        if random_nums[i] < random_nums[i + 1]:\n",
    "            if previous_run == \"up\" or previous_run is None:\n",
    "                run_length += 1\n",
    "            elif previous_run == \"down\":\n",
    "                R.append(run_length)\n",
    "                run_length = 1\n",
    "                previous_run = \"up\"\n",
    "        else:\n",
    "            if previous_run == \"down\" or previous_run is None:\n",
    "                run_length += 1\n",
    "            elif previous_run == \"up\":\n",
    "                R.append(run_length)\n",
    "                run_length = 1\n",
    "                previous_run = \"down\"\n",
    "    \n",
    "    return R\n",
    "    "
   ]
  },
  {
   "attachments": {},
   "cell_type": "markdown",
   "metadata": {},
   "source": [
    "#### Above/Below\n"
   ]
  },
  {
   "attachments": {},
   "cell_type": "markdown",
   "metadata": {},
   "source": [
    "#### Up/Down"
   ]
  },
  {
   "cell_type": "code",
   "execution_count": null,
   "metadata": {},
   "outputs": [],
   "source": [
    "def Up_Down(R : list[float], n : int = None) -> list[float]:\n",
    "    \"\"\"\n",
    "        :param R: a list of random numbers between 0 and 1.\n",
    "        :n: the amount of numbers in R. If not provided, the length of R will be used.\n",
    "        \n",
    "        :return Z: a list (of something I don't know yet).\n",
    "    \"\"\"\n",
    "    if n is None:\n",
    "        n = len(R)\n",
    "        \n",
    "    assert n == len(R), \"'n' should be the amount of numbers in R.\"\n",
    "    \n",
    "    import numpy as np\n",
    "\n",
    "    A = np.array([\n",
    "        [4529.4, 9044.9, 13568, 18091, 22615, 27892],\n",
    "        [9044.9, 18097, 27139, 36187, 45234, 55789],\n",
    "        [13568, 27139, 40721, 54281, 67852, 83685],\n",
    "        [18091, 36187, 54281, 72414, 90470, 111580],\n",
    "        [22615, 45234, 67852, 90470, 113262, 139476],\n",
    "        [27892, 55789, 83685, 111580, 139476, 172860]\n",
    "        ])\n",
    "\n",
    "    B = np.array([\n",
    "        [1/6],\n",
    "        [5/24],\n",
    "        [11/120],\n",
    "        [19/720],\n",
    "        [29/5040],\n",
    "        [1/840]\n",
    "        ])\n",
    "    \n",
    "    Z = (1 / (n - 6)) * (R - n * B).T @ A @ (R - n * B)\n",
    "    \n",
    "    return Z\n",
    "\n"
   ]
  }
 ],
 "metadata": {
  "kernelspec": {
   "display_name": "Python 3",
   "language": "python",
   "name": "python3"
  },
  "language_info": {
   "codemirror_mode": {
    "name": "ipython",
    "version": 3
   },
   "file_extension": ".py",
   "mimetype": "text/x-python",
   "name": "python",
   "nbconvert_exporter": "python",
   "pygments_lexer": "ipython3",
   "version": "3.10.6"
  },
  "orig_nbformat": 4
 },
 "nbformat": 4,
 "nbformat_minor": 2
}
