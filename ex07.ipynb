{
 "cells": [
  {
   "attachments": {},
   "cell_type": "markdown",
   "metadata": {},
   "source": [
    "# Exercises Day06"
   ]
  },
  {
   "cell_type": "code",
   "execution_count": 69,
   "metadata": {},
   "outputs": [],
   "source": [
    "import numpy as np\n",
    "import matplotlib.pyplot as plt\n",
    "from typing import Callable\n",
    "from netgraph import Graph\n"
   ]
  },
  {
   "attachments": {},
   "cell_type": "markdown",
   "metadata": {},
   "source": [
    "## Ex01\n",
    "**Simulated annealing - traveling salesman**\n",
    "\n",
    "\n",
    "\n",
    "Loading the matrix"
   ]
  },
  {
   "cell_type": "code",
   "execution_count": 70,
   "metadata": {},
   "outputs": [],
   "source": [
    "cost_matrix = np.loadtxt(open(\"cost.csv\", \"rb\"), delimiter=\",\")\n"
   ]
  },
  {
   "attachments": {},
   "cell_type": "markdown",
   "metadata": {},
   "source": [
    "Defining the function for problem"
   ]
  },
  {
   "cell_type": "code",
   "execution_count": 71,
   "metadata": {},
   "outputs": [],
   "source": [
    "cool_scheme1 = lambda k : 1 / np.sqrt(1 + k)\n",
    "cool_scheme2 = lambda k : -np.log(k + 1)\n",
    "\n",
    "def objective_func(S:list):\n",
    "    S = np.append(S, S[0])  \n",
    "    return cost_matrix[S[:-1], S[1:]].sum()\n",
    "\n",
    "def prob_annealing(\n",
    "    S_curr : list,\n",
    "    S_proposal : list,\n",
    "    i : int,\n",
    "    T_func : Callable = cool_scheme1,\n",
    "    obj_func: Callable = objective_func\n",
    "    ) -> tuple[float, float, float]:\n",
    "    \"\"\"\n",
    "\n",
    "    \"\"\"\n",
    "    T = T_func(i)\n",
    "    f_curr = obj_func(S_curr)\n",
    "    f_proposal = obj_func(S_proposal)\n",
    "    P = np.exp(-(f_proposal - f_curr) / T)\n",
    "    \n",
    "    return P, f_curr, f_proposal\n"
   ]
  },
  {
   "attachments": {},
   "cell_type": "markdown",
   "metadata": {},
   "source": [
    "MCMC setup"
   ]
  },
  {
   "cell_type": "code",
   "execution_count": 72,
   "metadata": {},
   "outputs": [],
   "source": [
    "def MCMC_annealing(\n",
    "    num_iter : int,\n",
    "    N : int,\n",
    "    S_0: list = None,\n",
    "    T_func : Callable = cool_scheme1,\n",
    "    obj_func: Callable = objective_func,\n",
    "    seed : int = 42\n",
    "    ) -> list[list[int]]:\n",
    "    \"\"\"\n",
    "\n",
    "    \"\"\"\n",
    "    np.random.seed(seed)\n",
    "    \n",
    "    if S_0 is None:\n",
    "        S_0 = np.random.choice(N, replace=False, size=N)\n",
    "    \n",
    "\n",
    "    samples_S = [S_0]\n",
    "    S_best = S_0\n",
    "    U_best = objective_func(S_best)\n",
    "    \n",
    "    for i in range(num_iter):\n",
    "        S_curr = samples_S[-1]\n",
    "        \n",
    "        # switch indices\n",
    "        S_proposal = S_curr.copy()\n",
    "        indx1, indx2 = np.random.choice(N, replace=False, size=2)\n",
    "        S_proposal[[indx1, indx2]] = S_proposal[[indx2, indx1]]\n",
    "\n",
    "        \n",
    "        P, U_curr, U_proposal = prob_annealing(S_curr, S_proposal,i, T_func, obj_func)\n",
    "     \n",
    "        if U_proposal <= U_curr:\n",
    "            samples_S.append(S_proposal)\n",
    "            \n",
    "        else:\n",
    "            accept = np.random.uniform(0,1)\n",
    "\n",
    "            if accept < P:\n",
    "                samples_S.append(S_proposal)\n",
    "            else:\n",
    "                samples_S.append(S_curr)\n",
    "        \n",
    "        if U_proposal < U_best:\n",
    "            U_best = U_proposal\n",
    "            S_best = S_proposal\n",
    "    \n",
    "    return U_best, S_best, samples_S"
   ]
  },
  {
   "cell_type": "code",
   "execution_count": 75,
   "metadata": {},
   "outputs": [
    {
     "name": "stderr",
     "output_type": "stream",
     "text": [
      "/var/folders/0k/ps_0pzxs5czcpbh2xf25k20c0000gp/T/ipykernel_28641/3267781057.py:21: RuntimeWarning: overflow encountered in exp\n",
      "  P = np.exp(-(f_proposal - f_curr) / T)\n"
     ]
    },
    {
     "name": "stdout",
     "output_type": "stream",
     "text": [
      "878.0\n"
     ]
    }
   ],
   "source": [
    "NUM_SAMPLES = 10**5\n",
    "num_locs = cost_matrix.shape[0] # <-- because it is symmetrical\n",
    "U_best, S_best, samples_S = MCMC_annealing(NUM_SAMPLES, num_locs, T_func=cool_scheme1)\n",
    "\n",
    "print(U_best)"
   ]
  },
  {
   "attachments": {},
   "cell_type": "markdown",
   "metadata": {},
   "source": [
    "Plot"
   ]
  },
  {
   "cell_type": "code",
   "execution_count": 76,
   "metadata": {},
   "outputs": [
    {
     "data": {
      "image/png": "[encoded data removed]",
      "text/plain": [
       "<Figure size 640x480 with 1 Axes>"
      ]
     },
     "metadata": {},
     "output_type": "display_data"
    }
   ],
   "source": [
    "\n",
    "S_indx = np.append(S_best, S_best[0])\n",
    "edge_lengths = cost_matrix[S_indx[:-1], S_indx[1:]]\n",
    "edge_lengths /= edge_lengths.sum()\n",
    "\n",
    "edge_length = {(S_indx[i], S_indx[i+1]): edge_lengths[i] for i in range(len(S_indx)-1)}\n",
    "edges = list(edge_length.keys())\n",
    "\n",
    "fig, ax = plt.subplots()\n",
    "fig.figsize = (40,40)\n",
    "Graph(edges, node_layout=\"geometric\", node_layout_kwargs=dict(edge_length=edge_length), node_labels=True, ax=ax)\n",
    "ax.set_aspect(\"equal\")\n",
    "plt.show()"
   ]
  }
 ],
 "metadata": {
  "kernelspec": {
   "display_name": "SSenv",
   "language": "python",
   "name": "python3"
  },
  "language_info": {
   "codemirror_mode": {
    "name": "ipython",
    "version": 3
   },
   "file_extension": ".py",
   "mimetype": "text/x-python",
   "name": "python",
   "nbconvert_exporter": "python",
   "pygments_lexer": "ipython3",
   "version": "3.10.6"
  },
  "orig_nbformat": 4
 },
 "nbformat": 4,
 "nbformat_minor": 2
}
