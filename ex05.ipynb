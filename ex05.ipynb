{
 "cells": [
  {
   "attachments": {},
   "cell_type": "markdown",
   "metadata": {},
   "source": [
    "# Exercises Day04"
   ]
  },
  {
   "cell_type": "code",
   "execution_count": 14,
   "metadata": {},
   "outputs": [
    {
     "name": "stdout",
     "output_type": "stream",
     "text": [
      "The autoreload extension is already loaded. To reload it, use:\n",
      "  %reload_ext autoreload\n"
     ]
    }
   ],
   "source": [
    "%load_ext autoreload\n",
    "%autoreload 2\n",
    "\n",
    "import numpy as np\n",
    "import scipy \n",
    "import matplotlib.pyplot as plt\n",
    "from helper_functions import *\n",
    "\n",
    "def normpdf(x : float, mu : float, sigma : float) -> float:\n",
    "    \"\"\"\n",
    "        Normal distribution probability density function.\n",
    "        \n",
    "        :param x: x value\n",
    "        :param mu: mean\n",
    "        :param sigma: standard deviation\n",
    "        \n",
    "        :return: probability density function value\n",
    "    \"\"\"\n",
    "    return 1/(np.sqrt(2 * np.pi) * sigma) * np.exp(-1.0 / 2 * ((mu - x) / sigma)**2)\n",
    "\n",
    "def compute_confidence_interval_sample(data : list[float], confidence : float = 0.95, normal : bool = False ) -> list[float]:\n",
    "    \"\"\"\n",
    "        Compute the confidence interval of the mean of the data.\n",
    "        :param data: list of data\n",
    "        :param confidence: confidence level\n",
    "        :param normal: whether of not the data is assumed normal distributed\n",
    "        \n",
    "        :return: confidence interval of the mean of the data\n",
    "    \"\"\"\n",
    "    N = len(data)\n",
    "    alpha = 1 - confidence\n",
    "\n",
    "    data = np.array(data)\n",
    "    if normal:\n",
    "        conf_mean = [data.mean() + data.std()/np.sqrt(N) * scipy.stats.t.cdf(alpha/2, N - 1), data.mean() + data.std()/np.sqrt(N) * scipy.stats.t.cdf(1-alpha/2, N - 1)]\n",
    "    else:\n",
    "        conf_mean = [data.mean() - confidence * data.std()/np.sqrt(N), data.mean() + confidence * data.std()/np.sqrt(N)]\n",
    "    \n",
    "    return conf_mean\n"
   ]
  },
  {
   "attachments": {},
   "cell_type": "markdown",
   "metadata": {},
   "source": [
    "## Ex01\n",
    "\n",
    "**Estimate an integral $\\int_0^1 e^x d x$ by simulation (the Crude Monte Carlo estimator). Use e.g. an estimator based on 100 samples and present the result as the point estimator and a confidence interval.**"
   ]
  },
  {
   "cell_type": "code",
   "execution_count": 2,
   "metadata": {},
   "outputs": [
    {
     "name": "stdout",
     "output_type": "stream",
     "text": [
      "Crude Monte Carlo (point) estimate:  1.7156186405469205\n",
      "Crude Monte Carlo confidence interval: [1.6675, 1.7637]\n",
      "Crude Monte Carlo variance: 0.2566\n"
     ]
    }
   ],
   "source": [
    "# We assume that we may use numpy because we already went through with sampling from numpy once\n",
    "# although you didn't explicitely state it as last time...\n",
    "NUM_SAMPLES = 100\n",
    "\n",
    "crude_monte_carlo = np.exp(np.random.uniform(0, 1, NUM_SAMPLES))\n",
    "crude_mc_estimate = crude_monte_carlo.mean()\n",
    "crude_mc_conf = compute_confidence_interval_sample(crude_monte_carlo)\n",
    "\n",
    "print(\"Crude Monte Carlo (point) estimate: \", crude_mc_estimate)\n",
    "print(f\"Crude Monte Carlo confidence interval: [{crude_mc_conf[0]:.4f}, {crude_mc_conf[1]:.4f}]\")\n",
    "print(f\"Crude Monte Carlo variance: {crude_monte_carlo.var():.4f}\")"
   ]
  },
  {
   "attachments": {},
   "cell_type": "markdown",
   "metadata": {},
   "source": [
    "## Ex02\n",
    "\n",
    "**Estimate an integral $\\int_0^1 e^x d x$ using antithetic variables, with comparable computer ressources.**"
   ]
  },
  {
   "cell_type": "code",
   "execution_count": 3,
   "metadata": {},
   "outputs": [
    {
     "name": "stdout",
     "output_type": "stream",
     "text": [
      "Antithetic (point) estimate (with 2 samples):  1.7286747783492726\n",
      "Antithetic confidence interval: [1.7226, 1.7347]\n",
      "\n",
      "Crude Monte Carlo (point) estimate (with 100 samples):  1.7156186405469205\n",
      "Crude Monte Carlo confidence interval: [1.6675, 1.7637]\n"
     ]
    }
   ],
   "source": [
    "# Again we assume numpy is allowed :D\n",
    "\n",
    "num_samples_antithetic = NUM_SAMPLES // 50  # <-- Going from crude to antithetic, reduces the variance by a factor of 50 (see slide 12 of 'slide7m1.pdf')\n",
    "\n",
    "U = np.random.uniform(0, 1, NUM_SAMPLES)\n",
    "X = np.exp(U)\n",
    "Z = np.exp(1 - U)\n",
    "Y = (X + Z) / 2\n",
    "\n",
    "antithetic_estimate = Y.mean()\n",
    "antithetic_conf = compute_confidence_interval_sample(Y)\n",
    "\n",
    "\n",
    "print(f\"Antithetic (point) estimate (with {num_samples_antithetic} samples): \", antithetic_estimate)\n",
    "print(f\"Antithetic confidence interval: [{antithetic_conf[0]:.4f}, {antithetic_conf[1]:.4f}]\\n\")\n",
    "print(f\"Crude Monte Carlo (point) estimate (with {NUM_SAMPLES} samples): \", crude_mc_estimate)\n",
    "print(f\"Crude Monte Carlo confidence interval: [{crude_mc_conf[0]:.4f}, {crude_mc_conf[1]:.4f}]\")"
   ]
  },
  {
   "attachments": {},
   "cell_type": "markdown",
   "metadata": {},
   "source": [
    "## Ex03\n",
    "\n",
    "**Estimate an integral $\\int_0^1 e^x d x$ using a control variable, with comparable computer ressources.**\n"
   ]
  },
  {
   "cell_type": "code",
   "execution_count": 4,
   "metadata": {},
   "outputs": [
    {
     "name": "stdout",
     "output_type": "stream",
     "text": [
      "Control sampling (point) estimate (with 100 samples):  1.7171917641228822\n",
      "Antithetic confidence interval: [1.7112, 1.7232]\n",
      "\n",
      "Crude Monte Carlo (point) estimate (with 100 samples):  1.7156186405469205\n",
      "Crude Monte Carlo confidence interval: [1.6675, 1.7637]\n"
     ]
    }
   ],
   "source": [
    "cov = lambda x,y: np.sum((x - x.mean()) * (y - y.mean())) / (len(x) - 1) \n",
    "\n",
    "num_samples_control = 100\n",
    "\n",
    "U = np.random.uniform(0, 1, num_samples_control) # Here U = Y from slides \n",
    "X = np.exp(U)\n",
    "\n",
    "c =  - cov(U, X) / U.var()\n",
    "\n",
    "Z = X + c * (U - 0.5)\n",
    "\n",
    "control_estimate = Z.mean()\n",
    "control_conf = compute_confidence_interval_sample(Z)\n",
    "\n",
    "\n",
    "print(f\"Control sampling (point) estimate (with {num_samples_control} samples): \", control_estimate)\n",
    "print(f\"Antithetic confidence interval: [{control_conf[0]:.4f}, {control_conf[1]:.4f}]\\n\")\n",
    "\n",
    "print(f\"Crude Monte Carlo (point) estimate (with {NUM_SAMPLES} samples): \", crude_mc_estimate)\n",
    "print(f\"Crude Monte Carlo confidence interval: [{crude_mc_conf[0]:.4f}, {crude_mc_conf[1]:.4f}]\")\n",
    "\n"
   ]
  },
  {
   "attachments": {},
   "cell_type": "markdown",
   "metadata": {},
   "source": [
    "## Ex04\n",
    "\n",
    "**Estimate an integral $\\int_0^1 e^x d x$ using stratified sampling, with\n",
    "comparable computer ressources.**\n"
   ]
  },
  {
   "cell_type": "code",
   "execution_count": 5,
   "metadata": {},
   "outputs": [
    {
     "name": "stdout",
     "output_type": "stream",
     "text": [
      "Stratified sampling (point) estimate (with 100 samples):  1.7324494904420242\n",
      "Stratified confidence interval: [1.7320, 1.7329]\n",
      "\n",
      "Crude Monte Carlo (point) estimate (with 100 samples):  1.7156186405469205\n",
      "Crude Monte Carlo confidence interval: [1.6675, 1.7637]\n"
     ]
    }
   ],
   "source": [
    "num_samples_stratified = 10\n",
    "m = 10\n",
    "\n",
    "W = 0\n",
    "for i in range(m):\n",
    "    W += np.exp(np.random.uniform((1 / m) * i, (1 / m) * (i + 1), num_samples_stratified) / m + i/m)\n",
    "\n",
    "W /= m\n",
    "\n",
    "stratified_estimate = W.mean()\n",
    "stratified_conf = compute_confidence_interval_sample(W)\n",
    "\n",
    "print(f\"Stratified sampling (point) estimate (with {num_samples_stratified * m} samples): \", stratified_estimate)\n",
    "print(f\"Stratified confidence interval: [{stratified_conf[0]:.4f}, {stratified_conf[1]:.4f}]\\n\")\n",
    "\n",
    "print(f\"Crude Monte Carlo (point) estimate (with {NUM_SAMPLES} samples): \", crude_mc_estimate)\n",
    "print(f\"Crude Monte Carlo confidence interval: [{crude_mc_conf[0]:.4f}, {crude_mc_conf[1]:.4f}]\")"
   ]
  },
  {
   "attachments": {},
   "cell_type": "markdown",
   "metadata": {},
   "source": [
    "## Ex05\n",
    "\n",
    "**Use control variates to reduce the variance of the estimator in\n",
    "exercise 04 (Poisson arrivals).**\n",
    "\n",
    "$$\n",
    "    \\tilde{X} = X + c_1 ( \\bar{X}_{arrival} - \\frac{1}{\\lambda})\n",
    "$$\n",
    "\n",
    "$X$ is here blocked rate (vector of all the samples), while $\\bar{X}_{arrival}$ is the arrival rate (vector of all the arrival times) and $\\frac{1}{\\lambda}$ is the theoretical mean of arrivals rates."
   ]
  },
  {
   "cell_type": "code",
   "execution_count": 6,
   "metadata": {},
   "outputs": [
    {
     "name": "stdout",
     "output_type": "stream",
     "text": [
      "run 1\n",
      "run 2\n",
      "run 3\n",
      "run 4\n",
      "run 5\n",
      "run 6\n",
      "run 7\n",
      "run 8\n",
      "run 9\n",
      "run 10\n",
      "Orignal estimate: 0.12037 \tApplied control variates 0.12056 \tExact solution 0.12166\n",
      "Orignal estimate residual: 0.00129 \tApplied control variates residual: 0.00110\n"
     ]
    }
   ],
   "source": [
    "block_fraction, arrivals = blocking_simulation()\n",
    "\n",
    "block_fraction = np.array(block_fraction); arrivals = np.array(arrivals)\n",
    "c = cov(block_fraction, arrivals) / arrivals.var()\n",
    "X = block_fraction + c * (arrivals - ARRIVAL_MEAN) # <-- ARRIVAL_MEAN is defined in helperfunction.py\n",
    "\n",
    "\n",
    "# exact \n",
    "A = ARRIVAL_MEAN * SERVICE_MEAN\n",
    "\n",
    "B = (A**m / np.math.factorial(m)) / np.sum([(A**i) / np.math.factorial(i) for i in range(m+1)])\n",
    "\n",
    "print(f\"Orignal estimate: {block_fraction.mean():.5f} \\tApplied control variates {X.mean():.5f} \\tExact solution {B:.5f}\")\n",
    "print(f\"Orignal estimate residual: {np.abs((block_fraction.mean() - B)):.5f} \\tApplied control variates residual: {np.abs(X.mean() - B):.5f}\")\n"
   ]
  },
  {
   "attachments": {},
   "cell_type": "markdown",
   "metadata": {},
   "source": [
    "## Ex06\n",
    "\n",
    "**Demonstrate the effect of using common random numbers in exercise 4 for the difference between Poisson arrivals (Part 1) and a renewal process with hyperexponential interarrival times.**\n",
    "\n",
    "*Remark: You might need to do some thinking and some re-programming* \n",
    "\n"
   ]
  },
  {
   "cell_type": "code",
   "execution_count": 19,
   "metadata": {},
   "outputs": [
    {
     "name": "stdout",
     "output_type": "stream",
     "text": [
      "run 1\n",
      "run 2\n",
      "run 3\n",
      "run 4\n",
      "run 5\n",
      "run 6\n",
      "run 7\n",
      "run 8\n",
      "run 9\n",
      "run 10\n",
      "run 1\n",
      "run 2\n",
      "run 3\n",
      "run 4\n",
      "run 5\n",
      "run 6\n",
      "run 7\n",
      "run 8\n",
      "run 9\n",
      "run 10\n"
     ]
    }
   ],
   "source": [
    "def sample_arrival_poisson_process_sampleU(U) -> float:\n",
    "    \"\"\"\n",
    "        Sample the service time from an exponential distribution.\n",
    "        \n",
    "        :return: service time (as a float)\n",
    "    \"\"\"\n",
    "    return -np.log(U)/(1/SERVICE_MEAN)\n",
    "\n",
    "\n",
    "def sample_arrival_hyper_exponential(U) -> float:\n",
    "    \"\"\"\n",
    "    \"\"\"\n",
    "    p = np.random.binomial(n=1,p= HYPER_PROB)\n",
    "\n",
    "    if p:\n",
    "        return -np.log(U)/(1/HYPER_MEAN[0])\n",
    "    else:\n",
    "        return -np.log(U)/(1/HYPER_MEAN[1])\n",
    "\n",
    "U = np.random.uniform(0,1,(10,10001))\n",
    "\n",
    "arrivals_sample_exp = sample_arrival_poisson_process_sampleU(U)\n",
    "arrivals_sample_hexp = sample_arrival_hyper_exponential(U)\n",
    "\n",
    "\n",
    "## Simulation\n",
    "def blocking_simulation_sampleU(\n",
    "    simulation_runs : int = 10,\n",
    "    m : int = 10,\n",
    "    N : int = 10000,\n",
    "    sample_arrival :np.ndarray[np.ndarray[float]] = arrivals_sample_exp,\n",
    "    sample_service_time : Callable[[], float] = sample_service_time_exponential\n",
    "    ) -> tuple[list[float], list[float]]:\n",
    "    \"\"\"\n",
    "        A function for runinng multiple simulations of a blocking system.\n",
    "        \n",
    "        :param simulation_runs: number of simulations to run\n",
    "        :param m: number of service units\n",
    "        :param N: number of customers\n",
    "        :param sample_arrival: function for sampling arrival time\n",
    "        :param sample_service_time: function for sampling service time\n",
    "        \n",
    "        :return: list of blocked fractions and list of average arrival times\n",
    "    \"\"\"\n",
    "    # NOTE: Maybe use burn in period...?\n",
    "    \n",
    "    blocked_fractions = []\n",
    "    arrival_times = []\n",
    "    for i in range(simulation_runs):\n",
    "        print(f\"run {i+1}\")\n",
    "        custmer_count = 0\n",
    "        global_time = 0\n",
    "        event_counter = 0\n",
    "        block_count = 0\n",
    "        arrivals = 0\n",
    "\n",
    "\n",
    "        # lists\n",
    "        event_list = []\n",
    "        service_units_status = [False for _ in range(m)]    # <-- Indicates whether the service units are occupied or not\n",
    "        \n",
    "\n",
    "        # First arrival\n",
    "        first_arrival = sample_arrival[i,0]\n",
    "        event_list.append(Event('arrival', global_time + first_arrival))\n",
    "        arrivals += first_arrival\n",
    "        \n",
    "        global_time += first_arrival\n",
    "        event_list.append(Event('departure', global_time + first_arrival))\n",
    "        service_units_status[0] = True # <-- unit 1 is occupied\n",
    "\n",
    "        while custmer_count < N:\n",
    "            \n",
    "            current_event = event_list[event_counter]\n",
    "\n",
    "            # Increment global time\n",
    "            global_time = current_event.time\n",
    "\n",
    "            if current_event.event_type == 'arrival':\n",
    "                custmer_count += 1\n",
    "\n",
    "                # Check for free service units\n",
    "                indx, available = check_available_service(service_units_status)\n",
    "                \n",
    "                if available:\n",
    "                    # Insert departure event and depend to eventlist\n",
    "                    \n",
    "            \n",
    "                    departure_event = Event('departure', global_time + sample_service_time())\n",
    "                    event_list = apend_event(event_list, departure_event)\n",
    "\n",
    "                    # Take service unit\n",
    "                    service_units_status[indx] = True # <-- unit indx is occupied\n",
    "\n",
    "                if not available:\n",
    "                    # Costumer blocked\n",
    "                    block_count += 1\n",
    "                \n",
    "                # insert time for next arrival\n",
    "                new_arrival = sample_arrival[i,custmer_count]\n",
    "                arrivals += new_arrival\n",
    "                arrival_event = Event('arrival', global_time + new_arrival)\n",
    "                event_list = apend_event(event_list, arrival_event)\n",
    "\n",
    "            elif current_event.event_type == 'departure': \n",
    "                # Free the service unit for the current departure event\n",
    "                for indx, unit_occupied in enumerate(service_units_status):\n",
    "                    if unit_occupied:\n",
    "                        service_units_status[indx] = False # <-- unit indx is free\n",
    "                        break\n",
    "                        \n",
    "            # increment event counter\n",
    "            event_counter += 1\n",
    "        \n",
    "        blocked_fractions.append(block_count / N)\n",
    "        arrival_times.append(arrivals / N)\n",
    "    \n",
    "    return blocked_fractions, arrival_times\n",
    "\n",
    "\n",
    "block_fraction_exp, _ = blocking_simulation_sampleU(sample_arrival = arrivals_sample_exp)\n",
    "block_fraction_hexp, _ = blocking_simulation_sampleU(sample_arrival = arrivals_sample_hexp)"
   ]
  },
  {
   "cell_type": "code",
   "execution_count": 23,
   "metadata": {},
   "outputs": [
    {
     "name": "stdout",
     "output_type": "stream",
     "text": [
      "[0.0, 0.0, 0.0, 0.0, 0.0, 0.0, 0.0, 0.0, 0.0, 0.0]\n"
     ]
    },
    {
     "data": {
      "image/png": "[encoded data removed]",
      "text/plain": [
       "<Figure size 640x480 with 1 Axes>"
      ]
     },
     "metadata": {},
     "output_type": "display_data"
    }
   ],
   "source": [
    "print(block_fraction_exp)\n",
    "plt.figure()\n",
    "plt.plot(block_fraction_exp,block_fraction_hexp,'.')\n",
    "plt.show()"
   ]
  },
  {
   "attachments": {},
   "cell_type": "markdown",
   "metadata": {},
   "source": [
    "## Ex07"
   ]
  },
  {
   "cell_type": "code",
   "execution_count": null,
   "metadata": {},
   "outputs": [],
   "source": [
    "NUM_SAMPLES = 100000\n",
    "\n",
    "h = lambda x:   scipy.stats.norm.ppf(U)\n",
    "\n",
    "U = np.random.uniform(0, 1, NUM_SAMPLES)\n",
    "X = 1-  scipy.stats.norm.isf(U)\n",
    "\n",
    "XX =  np.arange(-4, 4, 0.01)\n",
    "Y = np.array([normpdf(x, 0, 1) for x in XX])\n",
    "\n",
    "plt.figure()\n",
    "plt.hist(X, density=True, bins=50)\n",
    "plt.plot(XX,Y)\n",
    "plt.show()"
   ]
  },
  {
   "cell_type": "code",
   "execution_count": null,
   "metadata": {},
   "outputs": [],
   "source": [
    "# Crude monte carlo? YES!\n",
    "NUM_SAMPLES= 100000\n",
    "X =  np.random.normal(0, 1, NUM_SAMPLES)\n",
    "a = 2 # Try different values\n",
    "\n",
    "\n",
    "print(np.sum(X<a)/NUM_SAMPLES)\n",
    "print(scipy.stats.norm.cdf(a,0,1)) # NO\n",
    "\n",
    "\n",
    "# Importance sampling\n"
   ]
  },
  {
   "cell_type": "code",
   "execution_count": 104,
   "metadata": {},
   "outputs": [
    {
     "name": "stdout",
     "output_type": "stream",
     "text": [
      "[0.82286919 0.58169317 0.82620987 0.83646022 0.68552121 0.90556778\n",
      " 0.95148263 0.68027052 0.58920701 0.95440663 0.96714824 0.90584545\n",
      " 0.85600321 0.96086674 0.58589029 0.85262498 0.97382994 0.86563782\n",
      " 0.84782187 0.931686   0.94036981 0.55173978 0.90799244 0.9443886\n",
      " 0.97450245 0.55242665 0.96036192 0.94791253 0.94804956 0.9455911\n",
      " 0.83389132 0.9768906  0.92160398 0.83796981 0.51204398 0.96697783\n",
      " 0.87661025 0.93613014 0.63630807 0.60550311 0.77176787 0.86168071\n",
      " 0.55944815 0.96040907 0.96684148 0.7859911  0.82960052 0.69428506\n",
      " 0.8417158  0.5729112  0.91046426 0.61966132 0.87744817 0.73139968\n",
      " 0.90194648 0.52930794 0.89886338 0.7122255  0.68146887 0.58425694\n",
      " 0.91989687 0.56536488 0.50292013 0.86010117 0.96214533 0.70508971\n",
      " 0.89769111 0.93427    0.61924756 0.67027819 0.95487785 0.88132262\n",
      " 0.9629169  0.97294435 0.70428656 0.56704589 0.54200531 0.79348209\n",
      " 0.58894889 0.61868025 0.7533451  0.87118913 0.71789772 0.73552035\n",
      " 0.95860625 0.90002053 0.75310256 0.92276051 0.81288842 0.77988442\n",
      " 0.8806135  0.83643616 0.50007715 0.75817169 0.92444324 0.93972457\n",
      " 0.73060433 0.9302283  0.95880119 0.95151059]\n"
     ]
    }
   ],
   "source": [
    "a = 2 \n",
    "\n",
    "NUM_SAMPLES= 100\n",
    "U = np.random.uniform(0, np.abs(a), NUM_SAMPLES)\n",
    "X = scipy.stats.norm.cdf(U)\n",
    "\n",
    "print(X )\n",
    "\n",
    "\n"
   ]
  },
  {
   "attachments": {},
   "cell_type": "markdown",
   "metadata": {},
   "source": [
    "## Ex08"
   ]
  },
  {
   "cell_type": "code",
   "execution_count": null,
   "metadata": {},
   "outputs": [],
   "source": []
  },
  {
   "attachments": {},
   "cell_type": "markdown",
   "metadata": {},
   "source": [
    "## Ex09"
   ]
  },
  {
   "cell_type": "code",
   "execution_count": null,
   "metadata": {},
   "outputs": [],
   "source": []
  }
 ],
 "metadata": {
  "kernelspec": {
   "display_name": "SSenv",
   "language": "python",
   "name": "python3"
  },
  "language_info": {
   "codemirror_mode": {
    "name": "ipython",
    "version": 3
   },
   "file_extension": ".py",
   "mimetype": "text/x-python",
   "name": "python",
   "nbconvert_exporter": "python",
   "pygments_lexer": "ipython3",
   "version": "3.10.6"
  },
  "orig_nbformat": 4
 },
 "nbformat": 4,
 "nbformat_minor": 2
}
