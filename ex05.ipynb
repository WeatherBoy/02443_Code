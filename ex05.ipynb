{
 "cells": [
  {
   "attachments": {},
   "cell_type": "markdown",
   "metadata": {},
   "source": [
    "# Exercises Day04"
   ]
  },
  {
   "cell_type": "code",
   "execution_count": 64,
   "metadata": {},
   "outputs": [
    {
     "name": "stdout",
     "output_type": "stream",
     "text": [
      "The autoreload extension is already loaded. To reload it, use:\n",
      "  %reload_ext autoreload\n"
     ]
    }
   ],
   "source": [
    "%load_ext autoreload\n",
    "%autoreload 2\n",
    "\n",
    "import numpy as np\n",
    "import scipy \n",
    "import matplotlib.pyplot as plt\n",
    "from helper_functions import *\n",
    "\n",
    "def normpdf(x : float, mu : float, sigma : float) -> float:\n",
    "    \"\"\"\n",
    "        Normal distribution probability density function.\n",
    "        \n",
    "        :param x: x value\n",
    "        :param mu: mean\n",
    "        :param sigma: standard deviation\n",
    "        \n",
    "        :return: probability density function value\n",
    "    \"\"\"\n",
    "    return 1/(np.sqrt(2 * np.pi) * sigma) * np.exp(-1.0 / 2 * ((mu - x) / sigma)**2)\n",
    "\n",
    "def compute_confidence_interval_sample(data : list[float], confidence : float = 0.95, normal : bool = False ) -> list[float]:\n",
    "    \"\"\"\n",
    "        Compute the confidence interval of the mean of the data.\n",
    "        :param data: list of data\n",
    "        :param confidence: confidence level\n",
    "        :param normal: whether of not the data is assumed normal distributed\n",
    "        \n",
    "        :return: confidence interval of the mean of the data\n",
    "    \"\"\"\n",
    "    N = len(data)\n",
    "    alpha = 1 - confidence\n",
    "\n",
    "    data = np.array(data)\n",
    "    if normal:\n",
    "        conf_mean = [data.mean() + data.std()/np.sqrt(N) * scipy.stats.t.cdf(alpha/2, N - 1), data.mean() + data.std()/np.sqrt(N) * scipy.stats.t.cdf(1-alpha/2, N - 1)]\n",
    "    else:\n",
    "        conf_mean = [data.mean() - confidence * data.std()/np.sqrt(N), data.mean() + confidence * data.std()/np.sqrt(N)]\n",
    "    \n",
    "    return conf_mean"
   ]
  },
  {
   "attachments": {},
   "cell_type": "markdown",
   "metadata": {},
   "source": [
    "## Ex01\n",
    "\n",
    "**Estimate an integral $\\int_0^1 e^x d x$ by simulation (the Crude Monte Carlo estimator). Use e.g. an estimator based on 100 samples and present the result as the point estimator and a confidence interval.**\n",
    "\n"
   ]
  },
  {
   "cell_type": "code",
   "execution_count": 65,
   "metadata": {},
   "outputs": [
    {
     "name": "stdout",
     "output_type": "stream",
     "text": [
      "Crude Monte Carlo (point) estimate:  1.6580421468361097\n",
      "Crude Monte Carlo confidence interval: [1.6144, 1.7017]\n",
      "Crude Monte Carlo variance: 0.2114\n"
     ]
    }
   ],
   "source": [
    "# We assume that we may use numpy because we already went through with sampling from numpy once\n",
    "# although you didn't explicitely state it as last time...\n",
    "NUM_SAMPLES = 100\n",
    "\n",
    "crude_monte_carlo = np.exp(np.random.uniform(0, 1, NUM_SAMPLES))\n",
    "crude_mc_estimate = crude_monte_carlo.mean()\n",
    "crude_mc_conf = compute_confidence_interval_sample(crude_monte_carlo)\n",
    "\n",
    "print(\"Crude Monte Carlo (point) estimate: \", crude_mc_estimate)\n",
    "print(f\"Crude Monte Carlo confidence interval: [{crude_mc_conf[0]:.4f}, {crude_mc_conf[1]:.4f}]\")\n",
    "print(f\"Crude Monte Carlo variance: {crude_monte_carlo.var():.4f}\")"
   ]
  },
  {
   "attachments": {},
   "cell_type": "markdown",
   "metadata": {},
   "source": [
    "## Ex02\n",
    "\n",
    "**Estimate an integral $\\int_0^1 e^x d x$ using antithetic variables, with comparable computer ressources.**"
   ]
  },
  {
   "cell_type": "code",
   "execution_count": 66,
   "metadata": {},
   "outputs": [
    {
     "name": "stdout",
     "output_type": "stream",
     "text": [
      "Antithetic (point) estimate (with 2 samples):  1.7172882397118117\n",
      "Antithetic confidence interval: [1.7113, 1.7233]\n",
      "\n",
      "Crude Monte Carlo (point) estimate (with 100 samples):  1.6580421468361097\n",
      "Crude Monte Carlo confidence interval: [1.6144, 1.7017]\n"
     ]
    }
   ],
   "source": [
    "# Again we assume numpy is allowed :D\n",
    "\n",
    "num_samples_antithetic = NUM_SAMPLES // 50  # <-- Going from crude to antithetic, reduces the variance by a factor of 50 (see slide 12 of 'slide7m1.pdf')\n",
    "\n",
    "U = np.random.uniform(0, 1, NUM_SAMPLES)\n",
    "X = np.exp(U)\n",
    "Z = np.exp(1 - U)\n",
    "Y = (X + Z) / 2\n",
    "\n",
    "antithetic_estimate = Y.mean()\n",
    "antithetic_conf = compute_confidence_interval_sample(Y)\n",
    "\n",
    "\n",
    "print(f\"Antithetic (point) estimate (with {num_samples_antithetic} samples): \", antithetic_estimate)\n",
    "print(f\"Antithetic confidence interval: [{antithetic_conf[0]:.4f}, {antithetic_conf[1]:.4f}]\\n\")\n",
    "print(f\"Crude Monte Carlo (point) estimate (with {NUM_SAMPLES} samples): \", crude_mc_estimate)\n",
    "print(f\"Crude Monte Carlo confidence interval: [{crude_mc_conf[0]:.4f}, {crude_mc_conf[1]:.4f}]\")"
   ]
  },
  {
   "attachments": {},
   "cell_type": "markdown",
   "metadata": {},
   "source": [
    "## Ex03\n",
    "\n",
    "**Estimate an integral $\\int_0^1 e^x d x$ using a control variable, with comparable computer ressources.**\n"
   ]
  },
  {
   "cell_type": "code",
   "execution_count": 67,
   "metadata": {},
   "outputs": [
    {
     "name": "stdout",
     "output_type": "stream",
     "text": [
      "Control sampling (point) estimate (with 100 samples):  1.7140216681069307\n",
      "Antithetic confidence interval: [1.7081, 1.7199]\n",
      "\n",
      "Crude Monte Carlo (point) estimate (with 100 samples):  1.6580421468361097\n",
      "Crude Monte Carlo confidence interval: [1.6144, 1.7017]\n"
     ]
    }
   ],
   "source": [
    "cov = lambda x,y: np.sum((x - x.mean()) * (y - y.mean())) / (len(x) - 1) \n",
    "\n",
    "num_samples_control = 100\n",
    "\n",
    "U = np.random.uniform(0, 1, num_samples_control) # Here U = Y from slides \n",
    "X = np.exp(U)\n",
    "\n",
    "c =  - cov(U, X) / U.var()\n",
    "\n",
    "Z = X + c * (U - 0.5)\n",
    "\n",
    "control_estimate = Z.mean()\n",
    "control_conf = compute_confidence_interval_sample(Z)\n",
    "\n",
    "\n",
    "print(f\"Control sampling (point) estimate (with {num_samples_control} samples): \", control_estimate)\n",
    "print(f\"Antithetic confidence interval: [{control_conf[0]:.4f}, {control_conf[1]:.4f}]\\n\")\n",
    "\n",
    "print(f\"Crude Monte Carlo (point) estimate (with {NUM_SAMPLES} samples): \", crude_mc_estimate)\n",
    "print(f\"Crude Monte Carlo confidence interval: [{crude_mc_conf[0]:.4f}, {crude_mc_conf[1]:.4f}]\")\n",
    "\n"
   ]
  },
  {
   "attachments": {},
   "cell_type": "markdown",
   "metadata": {},
   "source": [
    "## Ex04\n",
    "\n",
    "**Estimate an integral $\\int_0^1 e^x d x$ using stratified sampling, with\n",
    "comparable computer ressources.**\n"
   ]
  },
  {
   "cell_type": "code",
   "execution_count": 68,
   "metadata": {},
   "outputs": [
    {
     "name": "stdout",
     "output_type": "stream",
     "text": [
      "Stratified sampling (point) estimate (with 100 samples):  1.7327551236802101\n",
      "Stratified confidence interval: [1.7322, 1.7333]\n",
      "\n",
      "Crude Monte Carlo (point) estimate (with 100 samples):  1.6580421468361097\n",
      "Crude Monte Carlo confidence interval: [1.6144, 1.7017]\n"
     ]
    }
   ],
   "source": [
    "num_samples_stratified = 10\n",
    "m = 10\n",
    "\n",
    "W = 0\n",
    "for i in range(m):\n",
    "    W += np.exp(np.random.uniform((1 / m) * i, (1 / m) * (i + 1), num_samples_stratified) / m + i/m)\n",
    "\n",
    "W /= m\n",
    "\n",
    "stratified_estimate = W.mean()\n",
    "stratified_conf = compute_confidence_interval_sample(W)\n",
    "\n",
    "print(f\"Stratified sampling (point) estimate (with {num_samples_stratified * m} samples): \", stratified_estimate)\n",
    "print(f\"Stratified confidence interval: [{stratified_conf[0]:.4f}, {stratified_conf[1]:.4f}]\\n\")\n",
    "\n",
    "print(f\"Crude Monte Carlo (point) estimate (with {NUM_SAMPLES} samples): \", crude_mc_estimate)\n",
    "print(f\"Crude Monte Carlo confidence interval: [{crude_mc_conf[0]:.4f}, {crude_mc_conf[1]:.4f}]\")"
   ]
  },
  {
   "attachments": {},
   "cell_type": "markdown",
   "metadata": {},
   "source": [
    "## Ex05\n",
    "\n",
    "**Use control variates to reduce the variance of the estimator in\n",
    "exercise 04 (Poisson arrivals).**\n",
    "\n",
    "$$\n",
    "    \\tilde{X} = X + c_1 ( \\bar{X}_{arrival} - \\frac{1}{\\lambda})\n",
    "$$\n",
    "\n",
    "$X$ is here blocked rate (vector of all the samples), while $\\bar{X}_{arrival}$ is the arrival rate (vector of all the arrival times) and $\\frac{1}{\\lambda}$ is the theoretical mean of arrivals rates."
   ]
  },
  {
   "cell_type": "code",
   "execution_count": 69,
   "metadata": {},
   "outputs": [
    {
     "name": "stdout",
     "output_type": "stream",
     "text": [
      "run 1\n",
      "run 2\n",
      "run 3\n",
      "run 4\n",
      "run 5\n",
      "run 6\n",
      "run 7\n",
      "run 8\n",
      "run 9\n",
      "run 10\n",
      "Orignal estimate: 0.12090 \tApplied control variates 0.12010 \tExact solution 0.12166\n",
      "Orignal estimate residual: 0.00076 \tApplied control variates residual: 0.00156\n"
     ]
    }
   ],
   "source": [
    "block_fraction, arrivals = blocking_simulation()\n",
    "\n",
    "block_fraction = np.array(block_fraction); arrivals = np.array(arrivals)\n",
    "c = cov(block_fraction, arrivals) / arrivals.var()\n",
    "X = block_fraction + c * (arrivals - ARRIVAL_MEAN) # <-- ARRIVAL_MEAN is defined in helperfunction.py\n",
    "\n",
    "\n",
    "# exact \n",
    "A = ARRIVAL_MEAN * SERVICE_MEAN\n",
    "\n",
    "B = (A**m / np.math.factorial(m)) / np.sum([(A**i) / np.math.factorial(i) for i in range(m+1)])\n",
    "\n",
    "print(f\"Orignal estimate: {block_fraction.mean():.5f} \\tApplied control variates {X.mean():.5f} \\tExact solution {B:.5f}\")\n",
    "print(f\"Orignal estimate residual: {np.abs((block_fraction.mean() - B)):.5f} \\tApplied control variates residual: {np.abs(X.mean() - B):.5f}\")\n"
   ]
  },
  {
   "attachments": {},
   "cell_type": "markdown",
   "metadata": {},
   "source": [
    "## Ex06\n",
    "\n",
    "**Demonstrate the effect of using common random numbers in exercise 4 for the difference between Poisson arrivals (Part 1) and a renewal process with hyperexponential interarrival times.**\n",
    "\n",
    "*Remark: You might need to do some thinking and some re-programming* \n",
    "\n"
   ]
  },
  {
   "cell_type": "code",
   "execution_count": 77,
   "metadata": {},
   "outputs": [
    {
     "data": {
      "text/plain": [
       "[1.2000480019200768, 0.2]"
      ]
     },
     "execution_count": 77,
     "metadata": {},
     "output_type": "execute_result"
    }
   ],
   "source": [
    "HYPER_MEAN"
   ]
  },
  {
   "cell_type": "code",
   "execution_count": 78,
   "metadata": {},
   "outputs": [
    {
     "name": "stdout",
     "output_type": "stream",
     "text": [
      "run 1\n",
      "run 2\n",
      "run 3\n",
      "run 4\n",
      "run 5\n",
      "run 6\n",
      "run 7\n",
      "run 8\n",
      "run 9\n",
      "run 10\n",
      "run 1\n",
      "run 2\n",
      "run 3\n",
      "run 4\n",
      "run 5\n",
      "run 6\n",
      "run 7\n",
      "run 8\n",
      "run 9\n",
      "run 10\n"
     ]
    }
   ],
   "source": [
    "def sample_arrival_poisson_process_sampleU(U) -> float:\n",
    "    \"\"\"\n",
    "        Sample the service time from an exponential distribution.\n",
    "        \n",
    "        :return: service time (as a float)\n",
    "    \"\"\"\n",
    "    return -np.log(U)/(1/ARRIVAL_MEAN)\n",
    "\n",
    "\n",
    "def sample_arrival_hyper_exponential(U) -> float:\n",
    "    \"\"\"\n",
    "    \"\"\"\n",
    "    p = np.random.binomial(n=1,p= HYPER_PROB)\n",
    "\n",
    "    if p:\n",
    "        return -np.log(U)/(1/HYPER_MEAN[0])\n",
    "    else:\n",
    "        return -np.log(U)/(1/HYPER_MEAN[1])\n",
    "\n",
    "U = np.random.uniform(0,1,(10,10001))\n",
    "\n",
    "arrivals_sample_exp = sample_arrival_poisson_process_sampleU(U)\n",
    "arrivals_sample_hexp = sample_arrival_hyper_exponential(U)\n",
    "\n",
    "\n",
    "## Simulation\n",
    "def blocking_simulation_sampleU(\n",
    "    simulation_runs : int = 10,\n",
    "    m : int = 10,\n",
    "    N : int = 10000,\n",
    "    sample_arrival :np.ndarray[np.ndarray[float]] = arrivals_sample_exp,\n",
    "    sample_service_time : Callable[[], float] = sample_service_time_exponential\n",
    "    ) -> tuple[list[float], list[float]]:\n",
    "    \"\"\"\n",
    "        A function for runinng multiple simulations of a blocking system.\n",
    "        \n",
    "        :param simulation_runs: number of simulations to run\n",
    "        :param m: number of service units\n",
    "        :param N: number of customers\n",
    "        :param sample_arrival: function for sampling arrival time\n",
    "        :param sample_service_time: function for sampling service time\n",
    "        \n",
    "        :return: list of blocked fractions and list of average arrival times\n",
    "    \"\"\"\n",
    "    # NOTE: Maybe use burn in period...?\n",
    "    \n",
    "    blocked_fractions = []\n",
    "    arrival_times = []\n",
    "    for i in range(simulation_runs):\n",
    "        print(f\"run {i+1}\")\n",
    "        custmer_count = 0\n",
    "        global_time = 0\n",
    "        event_counter = 0\n",
    "        block_count = 0\n",
    "        arrivals = 0\n",
    "\n",
    "\n",
    "        # lists\n",
    "        event_list = []\n",
    "        service_units_status = [False for _ in range(m)]    # <-- Indicates whether the service units are occupied or not\n",
    "        \n",
    "\n",
    "        # First arrival\n",
    "        first_arrival = sample_arrival[i,0]\n",
    "        event_list.append(Event('arrival', global_time + first_arrival))\n",
    "        arrivals += first_arrival\n",
    "        \n",
    "        global_time += first_arrival\n",
    "        event_list.append(Event('departure', global_time + first_arrival))\n",
    "        service_units_status[0] = True # <-- unit 1 is occupied\n",
    "\n",
    "        while custmer_count < N:\n",
    "            \n",
    "            current_event = event_list[event_counter]\n",
    "\n",
    "            # Increment global time\n",
    "            global_time = current_event.time\n",
    "\n",
    "            if current_event.event_type == 'arrival':\n",
    "                custmer_count += 1\n",
    "\n",
    "                # Check for free service units\n",
    "                indx, available = check_available_service(service_units_status)\n",
    "                \n",
    "                if available:\n",
    "                    # Insert departure event and depend to eventlist\n",
    "                    \n",
    "            \n",
    "                    departure_event = Event('departure', global_time + sample_service_time())\n",
    "                    event_list = apend_event(event_list, departure_event)\n",
    "\n",
    "                    # Take service unit\n",
    "                    service_units_status[indx] = True # <-- unit indx is occupied\n",
    "\n",
    "                if not available:\n",
    "                    # Costumer blocked\n",
    "                    block_count += 1\n",
    "                \n",
    "                # insert time for next arrival\n",
    "                new_arrival = sample_arrival[i,custmer_count]\n",
    "                arrivals += new_arrival\n",
    "                arrival_event = Event('arrival', global_time + new_arrival)\n",
    "                event_list = apend_event(event_list, arrival_event)\n",
    "\n",
    "            elif current_event.event_type == 'departure': \n",
    "                # Free the service unit for the current departure event\n",
    "                for indx, unit_occupied in enumerate(service_units_status):\n",
    "                    if unit_occupied:\n",
    "                        service_units_status[indx] = False # <-- unit indx is free\n",
    "                        break\n",
    "                        \n",
    "            # increment event counter\n",
    "            event_counter += 1\n",
    "        \n",
    "        blocked_fractions.append(block_count / N)\n",
    "        arrival_times.append(arrivals / N)\n",
    "    \n",
    "    return blocked_fractions, arrival_times\n",
    "\n",
    "\n",
    "block_fraction_exp, _ = blocking_simulation_sampleU(sample_arrival = arrivals_sample_exp)\n",
    "block_fraction_hexp, _ = blocking_simulation_sampleU(sample_arrival = arrivals_sample_hexp)"
   ]
  },
  {
   "cell_type": "code",
   "execution_count": 81,
   "metadata": {},
   "outputs": [
    {
     "data": {
      "image/png": "[encoded data removed]",
      "text/plain": [
       "<Figure size 640x480 with 1 Axes>"
      ]
     },
     "metadata": {},
     "output_type": "display_data"
    }
   ],
   "source": [
    "\n",
    "plt.figure()\n",
    "plt.plot(block_fraction_exp,block_fraction_hexp,'.')\n",
    "plt.show()"
   ]
  },
  {
   "attachments": {},
   "cell_type": "markdown",
   "metadata": {},
   "source": [
    "This has a overall increasing tendency. "
   ]
  },
  {
   "attachments": {},
   "cell_type": "markdown",
   "metadata": {},
   "source": [
    "## Ex07"
   ]
  },
  {
   "cell_type": "code",
   "execution_count": 51,
   "metadata": {},
   "outputs": [
    {
     "name": "stdout",
     "output_type": "stream",
     "text": [
      "Number of samples: 1000\n",
      "\ta = 2\n",
      "\t\tAnalytc solution : \t\t0.0228 \n",
      "\t\tMonte Carlo estimation: \t0.0200 \n",
      "\t\tImportance sampling estimation \t0.0239\n",
      "\n",
      "\ta = 3\n",
      "\t\tAnalytc solution : \t\t0.0013 \n",
      "\t\tMonte Carlo estimation: \t0.0000 \n",
      "\t\tImportance sampling estimation \t0.0014\n",
      "\n",
      "\ta = 4\n",
      "\t\tAnalytc solution : \t\t0.0000 \n",
      "\t\tMonte Carlo estimation: \t0.0000 \n",
      "\t\tImportance sampling estimation \t0.0000\n",
      "\n",
      "Number of samples: 10000\n",
      "\ta = 2\n",
      "\t\tAnalytc solution : \t\t0.0228 \n",
      "\t\tMonte Carlo estimation: \t0.0228 \n",
      "\t\tImportance sampling estimation \t0.0231\n",
      "\n",
      "\ta = 3\n",
      "\t\tAnalytc solution : \t\t0.0013 \n",
      "\t\tMonte Carlo estimation: \t0.0012 \n",
      "\t\tImportance sampling estimation \t0.0013\n",
      "\n",
      "\ta = 4\n",
      "\t\tAnalytc solution : \t\t0.0000 \n",
      "\t\tMonte Carlo estimation: \t0.0002 \n",
      "\t\tImportance sampling estimation \t0.0000\n",
      "\n",
      "Number of samples: 100000\n",
      "\ta = 2\n",
      "\t\tAnalytc solution : \t\t0.0228 \n",
      "\t\tMonte Carlo estimation: \t0.0226 \n",
      "\t\tImportance sampling estimation \t0.0226\n",
      "\n",
      "\ta = 3\n",
      "\t\tAnalytc solution : \t\t0.0013 \n",
      "\t\tMonte Carlo estimation: \t0.0014 \n",
      "\t\tImportance sampling estimation \t0.0014\n",
      "\n",
      "\ta = 4\n",
      "\t\tAnalytc solution : \t\t0.0000 \n",
      "\t\tMonte Carlo estimation: \t0.0000 \n",
      "\t\tImportance sampling estimation \t0.0000\n",
      "\n"
     ]
    }
   ],
   "source": [
    "# Crude monte carlo? YES!\n",
    "NUM_SAMPLES = [10**i for i in range(3,6)]\n",
    "\n",
    "a_s = [2,3,4] # Try different values\n",
    "\n",
    "\n",
    "def importance_sampling(a, num_samples: int,sigma2: float = 1):\n",
    "    importance_samples = scipy.stats.norm.rvs(a, sigma2, num_samples)\n",
    "\n",
    "    importance_h = importance_samples > a # Indicator function\n",
    "    importance_f = scipy.stats.norm.pdf(importance_samples,0,1)\n",
    "    importance_g = scipy.stats.norm.pdf(importance_samples,a,sigma2)\n",
    "\n",
    "    importance_prob = np.mean((importance_h * importance_f) / importance_g)\n",
    "    return importance_prob\n",
    "\n",
    "probs = np.zeros((len(NUM_SAMPLES),len(a_s),3))\n",
    "for i,num_samples in enumerate(NUM_SAMPLES):\n",
    "    print(f\"Number of samples: {num_samples}\")\n",
    "    for j, a in enumerate(a_s):\n",
    "        print(f\"\\ta = {a}\")\n",
    "\n",
    "        analytic = 1-scipy.stats.norm.cdf(a,0,1)\n",
    "        crude_monte_carlo = np.sum(np.random.normal(0, 1, num_samples)>a)/num_samples\n",
    "        importance_prob = importance_sampling(a,num_samples)\n",
    "\n",
    "        print(f\"\\t\\tAnalytc solution : \\t\\t{analytic:.4f} \\n\\t\\tMonte Carlo estimation: \\t{crude_monte_carlo:.4f} \\n\\t\\tImportance sampling estimation \\t{importance_prob:.4f}\\n\")\n",
    "\n",
    "\n",
    "\n",
    "\n"
   ]
  },
  {
   "attachments": {},
   "cell_type": "markdown",
   "metadata": {},
   "source": [
    "From the results we can see that for few samples, the monte carlo crude method does not pick up in any samples that are below choosen value of $a$. Here the importance sampling has a better estimation as we are assured that good samples are sampled. The bigger variation in the monte carlo estimation also does that for $a=4$ that has the analytic probability $P(Z>a)\\approx 0$ does get some samples where this is the case and giving a larger error in the estimation. This is however corrected for at bigger samplessize. \n",
    "\n",
    "In this case the importance sampling estimation is better in most casses. But is you have a lot of samples, this difference is not as apparaent meaning the more simple method of monte carlo could be and option too. "
   ]
  },
  {
   "attachments": {},
   "cell_type": "markdown",
   "metadata": {},
   "source": [
    "## Ex08\n",
    "We assume . We will do importance sampling with $g(y)= \\lambda e^{-\\lambda y}$ (exponential distribution) to estimate the intergral $\\int_0^1 e^x d x$. From the first exercise we got that we can estimate this by a $\\mathbb{E}[e^X]$ where $X\\sim\\text{Uniform}(0,1)$. We then define $Y= e^X$. From this we get the importance sampling variance as \n",
    "\n",
    "$$\n",
    "Var\\left[ \\frac{ e^{Y} I \\{Y < 1\\} }{g(Y)} \\right]\n",
    "= \\left[\\left(\\frac{ e^{Y}I\\{Y < 1\\}}{g(Y)} \\right)^2\\right] - \\left[\\frac{ e^{Y}I\\{Y < 1\\}}{g(Y)} \\right]^2\n",
    "= \\int_{0}^{1}\\left(\\frac{{\\mathrm e}^{y}}{\\lambda {}{\\mathrm e}^{-\\lambda {}y}}\\right)^{2}{}\\lambda {}{\\mathrm e}^{-\\lambda {}y}d y -\\left(\\int_{0}^{1}{\\mathrm e}^{y}d y \\right)^{2}\n",
    "$$\n",
    "\n",
    "The best estimate of $\\lambda$ is the smallest value of the variance, that is calculated from the expression above to be $\\lambda \\approx 1.35$. Note that we know that samples from the exponential distribution will we positive, so this in not included in the indicator function.\n"
   ]
  },
  {
   "cell_type": "code",
   "execution_count": 62,
   "metadata": {},
   "outputs": [
    {
     "name": "stdout",
     "output_type": "stream",
     "text": [
      "The estimated value: 1.7230, \t analytical solution 1.7183\n"
     ]
    },
    {
     "data": {
      "image/png": "[encoded data removed]",
      "text/plain": [
       "<Figure size 640x480 with 1 Axes>"
      ]
     },
     "metadata": {},
     "output_type": "display_data"
    }
   ],
   "source": [
    "\n",
    "NUM_SAMPLES = 10**5\n",
    "\n",
    "\n",
    "def importance_Exp(num_samples: int, lambda_:float = 1.35183):\n",
    "    importance_samples = scipy.stats.expon.rvs(scale = 1/lambda_, size=num_samples)\n",
    "\n",
    "    importance_h = importance_samples < 1 \n",
    "    importance_f = np.exp(importance_samples)\n",
    "    importance_g = scipy.stats.expon.pdf(importance_samples,scale = 1/lambda_)\n",
    "    importance_est_samples = (importance_h * importance_f) / importance_g\n",
    "\n",
    "    return importance_est_samples\n",
    "\n",
    "\n",
    "importance_est = importance_Exp(num_samples=NUM_SAMPLES)\n",
    "print(f\"The estimated value: {importance_est.mean():.4f}, \\t analytical solution {np.exp(1)-1:.4f}\")\n",
    "\n",
    "\n",
    "x = np.linspace(0,1)\n",
    "plt.figure()\n",
    "plt.hist(importance_est, density=True)\n",
    "plt.plot(x,np.exp(x)/(np.exp(x).sum()))\n",
    "plt.show()\n"
   ]
  },
  {
   "attachments": {},
   "cell_type": "markdown",
   "metadata": {},
   "source": [
    "As we can see not a lot of the samples from the exponential distribution is in the correct domaine. It would therefore make more sense to choose the importance distribution $g(x)$ with more carefully. In this case the true distribution we want to estimate is a increasing function and the importance distribution is decreasing in the same interval.  "
   ]
  },
  {
   "attachments": {},
   "cell_type": "markdown",
   "metadata": {},
   "source": [
    "## Ex09\n",
    "For the pareto distribution $X \\sim \\text{Pareto}(k,\\beta)$ the first monent is given by  $Y = \\mathbb{E}[X]=\\frac{k}{k-1}\\beta$ where $k>1$. The first moment is also a pareto distribution with parameter $Y \\sim \\text{pareto}(k-1,\\beta)$. If we want to estimate the mean with importance sampling we would get that $h(y) = y$. The pdf for the pareto distribution is $f(x)=\\frac{k}{x}\\left(\\frac{\\beta}{x}\\right)^{k}$, which is found by differentiating the given CDF for the pareto. The term for the importance sampling then becomes\n",
    "\n",
    "$$\n",
    "\\begin{align*}\n",
    "\\frac{h(Y)f(Y)}{g(x)} = \\frac{Y \\frac{k}{Y}\\left(\\frac{\\beta}{Y}\\right)^{k}}{\\frac{k-1}{Y}\\left(\\frac{\\beta}{Y}\\right)^{k-1}} \\\\\n",
    "                      = \\frac{k}{k-1}\\beta\n",
    "                      = \\mathbb{E}[X]\n",
    "\\end{align*}\n",
    "$$\n",
    "This is the mean itself, meaning importance sampling would not make sense in this case. "
   ]
  }
 ],
 "metadata": {
  "kernelspec": {
   "display_name": "SSenv",
   "language": "python",
   "name": "python3"
  },
  "language_info": {
   "codemirror_mode": {
    "name": "ipython",
    "version": 3
   },
   "file_extension": ".py",
   "mimetype": "text/x-python",
   "name": "python",
   "nbconvert_exporter": "python",
   "pygments_lexer": "ipython3",
   "version": "3.10.6"
  },
  "orig_nbformat": 4
 },
 "nbformat": 4,
 "nbformat_minor": 2
}
