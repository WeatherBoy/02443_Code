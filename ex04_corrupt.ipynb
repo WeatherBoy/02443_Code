{
 "cells": [
  {
   "attachments": {},
   "cell_type": "markdown",
   "metadata": {},
   "source": [
    "# Exercises day 03"
   ]
  },
  {
   "attachments": {},
   "cell_type": "markdown",
   "metadata": {},
   "source": [
    "## Ex01\n",
    "The event for the blocking system is has the possible following event:\n",
    "\n",
    "* Arrival of a customer \n",
    "* Customer is served\n",
    "* Customer is blocked, as all $m$ service unints is occupied.\n",
    "\n",
    "For part 1 the arrival process is modelled as a Poisson process, and the service time distribution as exponential."
   ]
  },
  {
   "attachments": {},
   "cell_type": "markdown",
   "metadata": {},
   "source": [
    "Class for service units"
   ]
  },
  {
   "cell_type": "code",
   "execution_count": null,
   "metadata": {},
   "outputs": [],
   "source": [
    "class Event:\n",
    "    def __init__(self, event_type : str, time : float, ) -> None:\n",
    "        if event_type.lower() not in ['arrival', 'departure']:\n",
    "            raise ValueError('event_type must be either arrival or departure')\n",
    "        self.event_type = event_type\n",
    "        self.time = time\n",
    "       "
   ]
  },
  {
   "attachments": {},
   "cell_type": "markdown",
   "metadata": {},
   "source": [
    "Simulation:"
   ]
  },
  {
   "cell_type": "code",
   "execution_count": null,
   "metadata": {},
   "outputs": [],
   "source": [
    "def blocking_simulation(\n",
    "    simulation_runs : int = 10,\n",
    "    m : int = 10,\n",
    "    N : int = 10000,\n",
    "    sample_arrival : Callable[[], float] = sample_arrival_poisson_process,\n",
    "    sample_service_time : Callable[[], float] = sample_service_time_exponential\n",
    "    ) -> list[float]:\n",
    "    \"\"\"\n",
    "        A function for runinng multiple simulations of a blocking system.\n",
    "        \n",
    "        :param simulation_runs: number of simulations to run\n",
    "        :param m: number of service units\n",
    "        :param N: number of customers\n",
    "        :param sample_arrival: function for sampling arrival time\n",
    "        :param sample_service_time: function for sampling service time\n",
    "        \n",
    "        :return: list of blocked fractions\n",
    "    \"\"\"\n",
    "    # NOTE: Maybe use burn in period...?\n",
    "    \n",
    "    blocked_fractions = []\n",
    "    for i in range(simulation_runs):\n",
    "        print(f\"run {i+1}\")\n",
    "        custmer_count = 0\n",
    "        global_time = 0\n",
    "        event_counter = 0\n",
    "        block_count = 0\n",
    "\n",
    "        # lists\n",
    "        event_list = []\n",
    "        service_units_status = [False for _ in range(m)]    # <-- Indicates whether the service units are occupied or not\n",
    "        \n",
    "        # First arrival\n",
    "        first_arrival = sample_arrival()\n",
    "        event_list.append(Event('arrival', global_time + first_arrival))\n",
    "        global_time += first_arrival\n",
    "        event_list.append(Event('departure', global_time + sample_service_time()))\n",
    "        service_units_status[0] = True # <-- unit 1 is occupied\n",
    "\n",
    "        while custmer_count < N:\n",
    "            \n",
    "            current_event = event_list[event_counter]\n",
    "\n",
    "            # Increment global time\n",
    "            global_time = current_event.time\n",
    "\n",
    "            if current_event.event_type == 'arrival':\n",
    "                custmer_count += 1\n",
    "\n",
    "                # Check for free service units\n",
    "                indx, available = check_available_service(service_units_status)\n",
    "                \n",
    "                if available:\n",
    "                    # Insert departure event and depend to eventlist\n",
    "                    \n",
    "            \n",
    "                    departure_event = Event('departure', global_time + sample_service_time())\n",
    "                    event_list = apend_event(event_list, departure_event)\n",
    "\n",
    "                    # Take service unit\n",
    "                    service_units_status[indx] = True # <-- unit indx is occupied\n",
    "\n",
    "                if not available:\n",
    "                    # Costumer blocked\n",
    "                    block_count += 1\n",
    "                \n",
    "                # insert time for next arrival\n",
    "                arrival_event = Event('arrival', global_time + sample_arrival())\n",
    "                event_list = apend_event(event_list, arrival_event)\n",
    "\n",
    "            elif current_event.event_type == 'departure': \n",
    "                # Free the service unit for the current departure event\n",
    "                for indx, unit_occupied in enumerate(service_units_status):\n",
    "                    if unit_occupied:\n",
    "                        service_units_status[indx] = False # <-- unit indx is free\n",
    "                        break\n",
    "                        \n",
    "            # increment event counter\n",
    "            event_counter += 1\n",
    "        \n",
    "        blocked_fractions.append(block_count / N)\n",
    "    \n",
    "    return blocked_fractions"
   ]
  },
  {
   "attachments": {},
   "cell_type": "markdown",
   "metadata": {},
   "source": [
    "Exact solution"
   ]
  },
  {
   "attachments": {},
   "cell_type": "markdown",
   "metadata": {},
   "source": [
    "The simulation is sufficiently close to the found exact solution."
   ]
  },
  {
   "attachments": {},
   "cell_type": "markdown",
   "metadata": {},
   "source": [
    "## EX02\n",
    "The model is now redefined for more other arrival processes of the costumers.\n",
    "\n",
    "### a) Erlang distributed arrival\n"
   ]
  },
  {
   "cell_type": "code",
   "execution_count": null,
   "metadata": {},
   "outputs": [],
   "source": [
    "block_fraction = blocking_simulation(sample_arrival=sample_arrival_erlang)\n",
    "\n",
    "block_fraction_conf = compute_confidence_interval_sample(block_fraction)\n",
    "\n",
    "print(f\"The fraction of blocked customers \\n{block_fraction}\")\n",
    "print(f\"Confidence interval for the mean blocking fraction: {block_fraction_conf}\")"
   ]
  },
  {
   "attachments": {},
   "cell_type": "markdown",
   "metadata": {},
   "source": [
    "Simulation:"
   ]
  },
  {
   "attachments": {},
   "cell_type": "markdown",
   "metadata": {},
   "source": [
    "## Ex03\n",
    "\n",
    "**We reuse Poisson from** *Ex01* **but then we use some new distributions for sampling the service time**\n",
    "* **Constant service time**\n",
    "* **Paretto distributed with $k = 1.05$ or $k = 2.05$**\n",
    "* **Choose some other distributions of our own volition**"
   ]
  },
  {
   "attachments": {},
   "cell_type": "markdown",
   "metadata": {},
   "source": [
    "### a) Constant service time"
   ]
  },
  {
   "attachments": {},
   "cell_type": "markdown",
   "metadata": {},
   "source": [
    "### b) Pareto distributed\n"
   ]
  },
  {
   "cell_type": "code",
   "execution_count": null,
   "metadata": {},
   "outputs": [],
   "source": [
    "k_list = np.linspace(1.05,2.05,2)\n",
    "\n",
    "def sample_service_time_pareto(k) -> float:\n",
    "    \"\"\"\n",
    "        Sample the service time from an pareto distribution.\n",
    "        \n",
    "        :return: service time (as a float) will be above 1\n",
    "    \"\"\"\n",
    "    return scipy.stats.pareto.rvs(k)\n"
   ]
  },
  {
   "attachments": {},
   "cell_type": "markdown",
   "metadata": {},
   "source": [
    "Simulation with the different k values"
   ]
  },
  {
   "cell_type": "code",
   "execution_count": 172,
   "metadata": {},
   "outputs": [
    {
     "name": "stdout",
     "output_type": "stream",
     "text": [
      "3.232770647991916\n"
     ]
    }
   ],
   "source": [
    "k = 1.05\n",
    "U = np.random.uniform(0.0, 1.0, 1000000)\n",
    "beta = 8*((k - 1) / k)\n",
    "samples = beta * (np.power(U, (-1 / k)) - 1)\n",
    "#samples = beta * (U**(-1 / k) - 1)\n",
    "\n",
    "print(samples.mean())"
   ]
  }
 ],
 "metadata": {
  "kernelspec": {
   "display_name": "SSenv",
   "language": "python",
   "name": "python3"
  },
  "language_info": {
   "codemirror_mode": {
    "name": "ipython",
    "version": 3
   },
   "file_extension": ".py",
   "mimetype": "text/x-python",
   "name": "python",
   "nbconvert_exporter": "python",
   "pygments_lexer": "ipython3",
   "version": "3.10.6"
  },
  "orig_nbformat": 4
 },
 "nbformat": 4,
 "nbformat_minor": 2
}
